{
 "cells": [
  {
   "cell_type": "markdown",
   "metadata": {},
   "source": [
    "Assume you are going to back up a list of files e.g. ['sys_version.py', 's5_datetime_1.py', 'utilities/py2nb_dir.py', 'files/level2/2.py']"
   ]
  },
  {
   "cell_type": "code",
   "execution_count": null,
   "metadata": {},
   "outputs": [],
   "source": [
    "import os\n",
    "from datetime import datetime\n",
    "import time\n",
    "\n",
    "files_to_backup = ['sys_version.py', 's5_datetime_1.py', 'utilities/py2nb_dir.py', 'files/level2/2.py']"
   ]
  },
  {
   "cell_type": "markdown",
   "metadata": {},
   "source": [
    "Define to compress functions using 7zip and WinRAR respectively"
   ]
  },
  {
   "cell_type": "markdown",
   "metadata": {},
   "source": [
    "This line `\" \".join([file for file in filenames])` \n",
    "\n",
    "converts ['sys_version.py', 's5_datetime_1.py', 'utilities/py2nb_dir.py', 'files/level2/2.py'] to a filenames string like \"sys_version.py s5_datetime_1.py utilities/py2nb_dir.py files/level2/2.py\"\n"
   ]
  },
  {
   "cell_type": "code",
   "execution_count": null,
   "metadata": {},
   "outputs": [],
   "source": [
    "def compress_7z(filenames, target_path):\n",
    "    filenames_str = \" \".join([file for file in filenames])\n",
    "    # -bso0: suppresses all output messages\n",
    "    # -spf: store path full (i.e preserve directory structure)\n",
    "    cmd = 'C:\\\\\"Program Files\"\\\\7-Zip\\\\7z a -bso0 -spf %s %s' % (target_path, filenames_str)\n",
    "    if os.system(cmd) == 0:\n",
    "        print(*filenames, \"\\n\\n--> Files compressed successfully as\", target_path)\n",
    "    else:\n",
    "        print(*filenames, \"\\n\\n--> File compression failed.\")\n",
    "\n",
    "def compress_rar(filenames, target_path):\n",
    "    filenames_str = \" \".join([file for file in filenames])\n",
    "    cmd = 'C:\\\\\"Program Files\"\\\\WinRAR\\\\WinRAR.exe a {0} {1}'.format(target_path, filenames_str)\n",
    "    if os.system(cmd) == 0:\n",
    "        print(*filenames, \"\\n\\n--> Files compressed successfully as\", target_path)\n",
    "    else:\n",
    "        print(*filenames, \"\\n\\n--> File compression failed.\")"
   ]
  },
  {
   "cell_type": "code",
   "execution_count": null,
   "metadata": {},
   "outputs": [],
   "source": [
    "# Compress qualified files into a zip file\n",
    "fmt = \"%Y%m%d_%H%M%S\"\n",
    "output_file = \"backup_\" + \"7zip_\" + datetime.now().strftime(fmt) + \".zip\"  # (or '.7z')\n",
    "compress_7z(files_to_backup, output_file)"
   ]
  },
  {
   "cell_type": "code",
   "execution_count": null,
   "metadata": {},
   "outputs": [],
   "source": [
    "# Compress qualified files into a rar file\n",
    "fmt = \"%Y%m%d_%H%M%S\"\n",
    "output_file = \"backup_\" + \"winrar_\" + time.strftime(fmt) + \".rar\"  # (or '.7z')\n",
    "compress_rar(files_to_backup, output_file)"
   ]
  },
  {
   "cell_type": "code",
   "execution_count": null,
   "metadata": {},
   "outputs": [],
   "source": [
    "import os\n",
    "import zipfile\n",
    "import time\n",
    "\n",
    "# Creates a ZIP archive of multiple files while maintaining their correct relative paths\n",
    "def compress_zip(filenames, target_path):\n",
    "    # Create a Zip file at the specified target path\n",
    "    with zipfile.ZipFile(target_path, 'w') as zipf:\n",
    "        \n",
    "        # Get the current working directory to use as the base for relative paths\n",
    "        base_dir = os.getcwd()\n",
    "        \n",
    "        # Iterate through the list of filenames and add them to the Zip file\n",
    "        for file in filenames:\n",
    "            # Check if the file path is absolute\n",
    "            if os.path.isabs(file):\n",
    "                # If it's absolute, compute the relative path from the base directory\n",
    "                relative_path = os.path.relpath(file, base_dir)\n",
    "            else:\n",
    "                # If it's already relative, use it directly\n",
    "                relative_path = file\n",
    "            \n",
    "            zipf.write(file, relative_path)  # Add file to the zip with its relative path\n",
    "    \n",
    "    # Check if the zip file was created successfully\n",
    "    if os.path.exists(target_path):\n",
    "        print(*filenames, \"\\n\\n--> Files compressed successfully as\", target_path)\n",
    "    else:\n",
    "        print(*filenames, \"\\n\\n--> File compression failed.\")"
   ]
  },
  {
   "cell_type": "code",
   "execution_count": null,
   "metadata": {},
   "outputs": [],
   "source": [
    "# Compress qualified files into a zip file\n",
    "fmt = \"%Y%m%d_%H%M%S\"\n",
    "output_file = \"backup_\" + \"zipfile_\" + time.strftime(fmt) + \".zip\"  # (or '.7z')\n",
    "compress_zip(files_to_backup, output_file)"
   ]
  }
 ],
 "metadata": {
  "kernelspec": {
   "display_name": "base",
   "language": "python",
   "name": "python3"
  },
  "language_info": {
   "codemirror_mode": {
    "name": "ipython",
    "version": 3
   },
   "file_extension": ".py",
   "mimetype": "text/x-python",
   "name": "python",
   "nbconvert_exporter": "python",
   "pygments_lexer": "ipython3",
   "version": "3.11.9"
  }
 },
 "nbformat": 4,
 "nbformat_minor": 2
}
