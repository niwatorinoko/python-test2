{
 "cells": [
  {
   "attachments": {},
   "cell_type": "markdown",
   "metadata": {},
   "source": [
    "## _Sample code s4-s5_\n",
    "\n",
    "- os: files, dirs, paths\n",
    "- datetime\n"
   ]
  },
  {
   "cell_type": "markdown",
   "metadata": {},
   "source": [
    "Check a package's version"
   ]
  },
  {
   "cell_type": "code",
   "execution_count": null,
   "metadata": {},
   "outputs": [],
   "source": [
    "!pip show numpy"
   ]
  },
  {
   "cell_type": "code",
   "execution_count": null,
   "metadata": {},
   "outputs": [],
   "source": [
    "import numpy\n",
    "\n",
    "print(numpy.__version__)"
   ]
  },
  {
   "cell_type": "code",
   "execution_count": null,
   "metadata": {},
   "outputs": [],
   "source": [
    "!conda list numpy"
   ]
  },
  {
   "cell_type": "code",
   "execution_count": null,
   "metadata": {},
   "outputs": [],
   "source": [
    "# Keep cwd for later use\n",
    "import os\n",
    "\n",
    "homedir = os.getcwd()"
   ]
  },
  {
   "cell_type": "markdown",
   "metadata": {},
   "source": [
    "### s4: file, os"
   ]
  },
  {
   "cell_type": "markdown",
   "metadata": {},
   "source": [
    "<font><h3>s4_file_1_open</h3></font>\n"
   ]
  },
  {
   "cell_type": "code",
   "execution_count": null,
   "metadata": {
    "collapsed": false
   },
   "outputs": [],
   "source": [
    "\"\"\"\n",
    "file open\n",
    "\"r\" - Read - Default value.\n",
    "\"t\" - Text - Default value. Text mode\n",
    "\"b\" - Binary - Binary mode (e.g. images)\n",
    "\"a\" - Append - Opens a file for appending, creates the file if it does not exist\n",
    "\"w\" - Write - Opens a file for writing, creates the file if it does not exist\n",
    "\"x\" - Create - Creates the specified file, returns an error if the file exists\n",
    "\"\"\"\n",
    "\n",
    "# file_object  = open(\"filepath\", \"mode\", encoding = \"...\")\n",
    "import os\n",
    "\n",
    "# dirpath = os.path.dirname(__file__) # not supported in jupyter notebook\n",
    "dirpath = os.getcwd()\n",
    "\n",
    "# Read content: file_object.read()\n",
    "filename = \"s4_demofile.txt\"\n",
    "f = open(os.path.join(dirpath, filename), \"rb\")\n",
    "print(f.read())\n",
    "print()\n",
    "\n",
    "# Read only parts of the file: file_object.read(n):\n",
    "f = open(os.path.join(dirpath, filename), \"r\", encoding='utf-8')\n",
    "print(f.read(10))  # 10 characters\n",
    "f.close()"
   ]
  },
  {
   "cell_type": "code",
   "execution_count": null,
   "metadata": {},
   "outputs": [],
   "source": [
    "# Read one line: file_object.readline():\n",
    "f = open(os.path.join(dirpath, filename), \"r\", encoding='utf-8')\n",
    "print(f.readline())\n",
    "print()"
   ]
  },
  {
   "cell_type": "code",
   "execution_count": null,
   "metadata": {},
   "outputs": [],
   "source": [
    "# Loop through the file line by line:\n",
    "f = open(os.path.join(dirpath, filename), \"r\", encoding='utf-8')\n",
    "for line in f:\n",
    "    print(line.strip('\\n'))\n",
    "print()"
   ]
  },
  {
   "cell_type": "code",
   "execution_count": null,
   "metadata": {},
   "outputs": [],
   "source": [
    "# Read Lines: file_object.readlines():\n",
    "# The with statement creates a context manager and it will automatically\n",
    "# close the file handler for you when you are done with it\n",
    "filename = \"s4_test4.csv\"\n",
    "\n",
    "with open(os.path.join(dirpath, filename), \"r\", encoding='cp950') as f:\n",
    "    print(f.readlines())"
   ]
  },
  {
   "cell_type": "markdown",
   "metadata": {},
   "source": [
    "<font><h3>s4_file_2_write</h3></font>\n"
   ]
  },
  {
   "cell_type": "code",
   "execution_count": null,
   "metadata": {
    "collapsed": false
   },
   "outputs": [],
   "source": [
    "\"\"\"\n",
    "Write to an existing file\n",
    "\n",
    "\"a\" - Append - will append to the end of the file\n",
    "\"w\" - Write  - will overwrite any existing content\n",
    "\"x\" - Create - Creates the specified file, returns an error if the file exists\n",
    "\"\"\"\n",
    "\n",
    "# Open the file and append content to the file:\n",
    "f = open(\"s4_demofile2.txt\", \"a\")\n",
    "f.write(\"Now the file has one more line!\\n\")\n",
    "f.close()\n",
    "\n",
    "# Loop through the file line by line:\n",
    "f = open(\"s4_demofile2.txt\", \"r\", encoding='utf-8')\n",
    "for line in f:\n",
    "    print(\"read line by line:\", line.strip('\\n'))\n",
    "print()\n",
    "f.close()"
   ]
  },
  {
   "cell_type": "code",
   "execution_count": null,
   "metadata": {},
   "outputs": [],
   "source": [
    "# Open the file \"s4_demofile2.txt\" and overwrite the content:\n",
    "f = open(\"s4_demofile2.txt\", \"w\", encoding=\"utf-8\")\n",
    "f.write(\"Woops! the content overwritten! 中文字1\\n\")\n",
    "f.close()\n",
    "\n",
    "# Loop through the file line by line:\n",
    "f = open(\"s4_demofile2.txt\", \"r\", encoding=\"utf-8\")\n",
    "for line in f:\n",
    "    print(\"read after overwriting:\", line.strip(\"\\n\"))\n",
    "print()\n",
    "# f.close()"
   ]
  },
  {
   "cell_type": "code",
   "execution_count": null,
   "metadata": {},
   "outputs": [],
   "source": [
    "# Open the file \"s4_demofile2.txt\" for reading and writing:\n",
    "with open(\"s4_demofile2.txt\", \"a+\", encoding='utf-8') as f:\n",
    "    print(f.tell())  # returns the current position in f\n",
    "    f.write(\"Woops! new content appended! 中文字2\\n\")\n",
    "    f.write(\"Woops! new content appended! 中文字3\\n\")\n",
    "    print(f.tell())\n",
    "    f.seek(0, 0)  # set the pointer to the beginning\n",
    "    print(\"read original line after writing:\", f.readline())\n",
    "    f.seek(10, 0)  # Move 10 bytes after the beginning\n",
    "    print(\"read original line after writing:\", f.readline())\n",
    "\n",
    "# f.seek(offset, from_what): f.seek(0,0), f.seek(0, os.SEEK_SET)\n",
    "#                            f.seek(0,2), f.seek(0, os.SEEK_END)\n",
    "# os.SEEK_SET or 0 (absolute file positioning)\n",
    "# os.SEEK_CUR or 1 (seek relative to the current position)\n",
    "# os.SEEK_END or 2 (seek relative to the file’s end)\n",
    "# In text mode, you can only seek relative to the beginning of the file (i.e., using os.SEEK_SET).\n",
    "\n",
    "\n",
    "#   for x in f:\n",
    "#     print(\"read after two appends:\",x.strip('\\n'))\n",
    "\n",
    "print(\"\\nReopen a file:\")\n",
    "with open(\"s4_demofile2.txt\", \"r\", encoding='utf-8') as f:\n",
    "    for line in f:\n",
    "        print(line.strip('\\n'))"
   ]
  },
  {
   "cell_type": "markdown",
   "metadata": {},
   "source": [
    "<font><h3>s4_file_3_new</h3></font>\n"
   ]
  },
  {
   "cell_type": "code",
   "execution_count": null,
   "metadata": {
    "collapsed": false
   },
   "outputs": [],
   "source": [
    "\"\"\"\n",
    "# Create a New File\n",
    "\"x\" - Create - will create a file, will fail if it exists\n",
    "\"a\" - Append - will create a file if the specified file does not exist\n",
    "\"w\" - Write - will create a file if the specified file does not exist\n",
    "\n",
    "\"\"\"\n",
    "\n",
    "# Create a file called \"myfile.txt\":\n",
    "f = open(\"myfile.txt\", \"x\")\n",
    "\n",
    "# Create a new file if it does not exist:\n",
    "f = open(\"myfile.txt\", \"w\", encoding='utf-8')\n",
    "f.write(\"Write a new line including 中文字 简体字 to myfile.txt\")\n",
    "\n",
    "# Loop through the file line by line:\n",
    "f = open(\"myfile.txt\", \"r\", encoding='utf-8')\n",
    "for line in f:\n",
    "    print(line)\n",
    "\n",
    "f.close()"
   ]
  },
  {
   "cell_type": "code",
   "execution_count": null,
   "metadata": {},
   "outputs": [],
   "source": [
    "# Check if file exist before removing it\n",
    "import os\n",
    "\n",
    "if os.path.exists(\"myfile.txt\"):\n",
    "    os.remove(\"myfile.txt\")\n",
    "    print(\"myfile.txt removed\\n\")\n",
    "else:\n",
    "    print(\"The file does not exist.\")"
   ]
  },
  {
   "cell_type": "markdown",
   "metadata": {},
   "source": [
    "<font><h3>s4_file_4_wordCounts</h3></font>\n"
   ]
  },
  {
   "cell_type": "code",
   "execution_count": null,
   "metadata": {
    "collapsed": false
   },
   "outputs": [],
   "source": [
    "\"\"\"\n",
    "Count lines, words, characters in text file: s4_read.txt\n",
    "\n",
    "\"\"\"\n",
    "\n",
    "file_path = 's4_read.txt'\n",
    "\n",
    "line_cnt = word_cnt = char_cnt = 0\n",
    "\n",
    "with open(file_path, 'r') as f:\n",
    "    for line in f:\n",
    "        line_cnt += 1\n",
    "        words = line.strip('\\n').split(' ')\n",
    "        word_cnt += len(words)\n",
    "        char_cnt += sum([len(x) for x in words])\n",
    "\n",
    "print('\\n%d line(s)' % (line_cnt))\n",
    "print('%d word(s)' % (word_cnt))\n",
    "print('%d character(s)\\n' % (char_cnt))"
   ]
  },
  {
   "cell_type": "markdown",
   "metadata": {},
   "source": [
    "<font><h3>s4_file_5_topWords</h3></font>\n"
   ]
  },
  {
   "cell_type": "code",
   "execution_count": null,
   "metadata": {
    "collapsed": false
   },
   "outputs": [],
   "source": [
    "\"\"\"\n",
    "Count lines, words, and characters and\n",
    "Find top five most occurred words\n",
    "\n",
    "\"\"\"\n",
    "file_path = 's4_read.txt'\n",
    "\n",
    "line_cnt = word_cnt = char_cnt = 0\n",
    "word_dict = {}\n",
    "\n",
    "with open(file_path, 'r') as f:\n",
    "    for line in f:\n",
    "        line_cnt += 1\n",
    "        words = line.strip('\\n').split(' ')\n",
    "        word_cnt += len(words)\n",
    "        char_cnt += sum([len(w) for w in words])\n",
    "        for w in words:\n",
    "            word_dict[w] = word_dict.setdefault(w, 0) + 1\n",
    "            # if w not in word_dict:\n",
    "            #     word_dict[w] = 1\n",
    "            # else:\n",
    "            #     word_dict[w] += 1\n",
    "# print(word_dict)\n",
    "\n",
    "print('\\n%d line(s)' % (line_cnt))\n",
    "print('%d word(s)' % (word_cnt))\n",
    "print('%d character(s)\\n' % (char_cnt))\n",
    "\n",
    "w_sorted = sorted(word_dict.items(), key=lambda x: x[1], reverse=True)\n",
    "print(w_sorted[0:5])\n",
    "\n",
    "\n",
    "# stopwords = ['ourselves', 'hers', 'between', 'yourself', 'but', 'again', 'there', 'about', 'once', 'during', 'out', 'very', 'having', 'with', 'they', 'own', 'an', 'be', 'some', 'for', 'do', 'its', 'yours', 'such', 'into', 'of', 'most', 'itself', 'other', 'off', 'is', 's', 'am', 'or', 'who', 'as', 'from', 'him', 'each', 'the', 'themselves', 'until', 'below', 'are', 'we', 'these', 'your', 'his', 'through', 'don', 'nor', 'me', 'were', 'her', 'more', 'himself', 'this', 'down', 'should', 'our', 'their', 'while', 'above', 'both', 'up', 'to', 'ours', 'had', 'she', 'all', 'no', 'when', 'at', 'any', 'before', 'them', 'same', 'and', 'been', 'have', 'in', 'will', 'on', 'does', 'yourselves', 'then', 'that', 'because', 'what', 'over', 'why', 'so', 'can', 'did', 'not', 'now', 'under', 'he', 'you', 'herself', 'has', 'just', 'where', 'too', 'only', 'myself', 'which', 'those', 'i', 'after', 'few', 'whom', 't', 'being', 'if', 'theirs', 'my', 'against', 'a', 'by', 'doing', 'it', 'how', 'further', 'was', 'here', 'than']"
   ]
  },
  {
   "cell_type": "markdown",
   "metadata": {},
   "source": [
    "<font><h3>s4_file_6_dictSorted</h3></font>\n"
   ]
  },
  {
   "cell_type": "code",
   "execution_count": null,
   "metadata": {
    "collapsed": false
   },
   "outputs": [],
   "source": [
    "\"\"\"\n",
    "Find the longest word that has at least 3 counts\n",
    "\"\"\"\n",
    "word_dict = {'Programming': 13, 'Calculus': 2,\n",
    "             'English': 5, 'Discrete Math': 8}\n",
    "freq_dict = {k: v for k, v in word_dict.items() if v >= 3}\n",
    "print(freq_dict)\n",
    "print()\n",
    "\n",
    "# sorted() takes a list (or tuple, dict) as an argument and returns a new sorted list.\n",
    "# Sorted by key length\n",
    "l_sorted = sorted(freq_dict, key=lambda x: len(x), reverse=True)\n",
    "# l_sorted = sorted(freq_dict.items(), key=lambda x: len(x[0]), reverse=True)\n",
    "\n",
    "\n",
    "# Sorted by key value # value-based sorting\n",
    "v_sorted = sorted(freq_dict, key=freq_dict.get, reverse=True)\n",
    "\n",
    "\n",
    "print(\"Sorted by key length: \")\n",
    "print(l_sorted, '\\n')\n",
    "print(\"Sorted by key value: \")\n",
    "print(v_sorted, '\\n')"
   ]
  },
  {
   "cell_type": "markdown",
   "metadata": {},
   "source": [
    "<font><h3>s4_file_7_dictSorted2</h3></font>\n"
   ]
  },
  {
   "cell_type": "code",
   "execution_count": null,
   "metadata": {
    "collapsed": false
   },
   "outputs": [],
   "source": [
    "\"\"\"\n",
    "Find top 3 items\n",
    "\n",
    "\"\"\"\n",
    "from collections import Counter\n",
    "from heapq import nlargest\n",
    "\n",
    "my_dict = {'a': 500, 'b': 5874, 'c': 1260, 'd': 400, 'e': 5874, 'f': 20}\n",
    "print(my_dict)\n",
    "print()\n",
    "\n",
    "# dict.get() returns the value for the given key, if present in the dictionary.\n",
    "# otherwise, it will return None\n",
    "\n",
    "# 1: Using sorted (by value)\n",
    "sorted1 = sorted(my_dict.items(), key=lambda x: x[1], reverse=True)\n",
    "sorted2 = sorted(my_dict, key=lambda x: my_dict[x], reverse=True)\n",
    "sorted3 = sorted(my_dict, key=my_dict.get, reverse=True)\n",
    "print(\"Top 3 keys:\", sorted3[0:3])\n",
    "\n",
    "# 2: Using heapq.nlargest\n",
    "three_largest = nlargest(3, my_dict, key=my_dict.get)\n",
    "print(\"Top 3 keys:\", three_largest)\n",
    "\n",
    "# 3: Using collections.Counter()\n",
    "counter = Counter(my_dict)\n",
    "highs = counter.most_common(3)\n",
    "print(\"Top 3 keys:\", [x[0] for x in highs])\n",
    "print(\"Top 3 items:\", highs)\n",
    "print()"
   ]
  },
  {
   "cell_type": "markdown",
   "metadata": {},
   "source": [
    "<font><h3>s4_file_8_createDict_credits</h3></font>\n"
   ]
  },
  {
   "cell_type": "code",
   "execution_count": null,
   "metadata": {
    "collapsed": false
   },
   "outputs": [],
   "source": [
    "# Convert a text file with row A:B to a dict\n",
    "\n",
    "\"\"\"\n",
    "Discrete Math : 3\n",
    "Calculus:   3\n",
    "Python: 3\n",
    "English: 2\n",
    "History: 2   \n",
    "\"\"\"\n",
    "\n",
    "import json\n",
    "from pprint import pprint\n",
    "my_dict = {}\n",
    "\n",
    "# Open the file 's4_credits.txt' in read mode with UTF-8 encoding\n",
    "with open('s4_credits.txt', \"r\", encoding=\"utf-8\") as f:\n",
    "    # Iterate over each line in the file\n",
    "    for line in f:\n",
    "        # Split the line into two parts using ':' as the delimiter\n",
    "        words = line.strip().split(\":\")\n",
    "        \n",
    "        # The first part (before the colon) is the key; remove any leading/trailing whitespace\n",
    "        k = words[0].strip()\n",
    "        \n",
    "        # The second part (after the colon) is the value; remove any leading/trailing whitespace\n",
    "        # Convert the value to an integer\n",
    "        v = int(words[1].strip())\n",
    "        \n",
    "        # Store the key-value pair in the dictionary 'my_dict'\n",
    "        my_dict[k] = v\n",
    "\n",
    "# add sort_dicts=False since python 3.8\n",
    "pprint(my_dict, sort_dicts=False)\n",
    "\n",
    "# conda install -c conda-forge rich\n",
    "# from rich import print\n",
    "# print(my_dict)\n",
    "\n",
    "print(json.dumps(my_dict, indent=2))"
   ]
  },
  {
   "cell_type": "markdown",
   "metadata": {},
   "source": [
    "<font><h3>s4_file_8_createDict_credits_2</h3></font>\n"
   ]
  },
  {
   "cell_type": "code",
   "execution_count": null,
   "metadata": {
    "collapsed": false
   },
   "outputs": [],
   "source": [
    "# Convert a text file with row A:B to a dict\n",
    "\"\"\"\n",
    "Discrete Math : 3\n",
    "Calculus:   3\n",
    "Python: 3\n",
    "English: 2\n",
    "'历史': 2   \n",
    "\"\"\"\n",
    "\n",
    "'''Predict a file's encoding using chardet'''\n",
    "def predictEncoding(file_path):\n",
    "    import chardet\n",
    "    import os\n",
    "    encoding = ''\n",
    "    bytes = min(1024, os.path.getsize(file_path))\n",
    "\n",
    "    # Open the file as binary data\n",
    "    raw = open(file_path, 'rb').read(bytes)\n",
    "\n",
    "    result = chardet.detect(raw)\n",
    "    encoding = result['encoding']\n",
    "\n",
    "    # set specific encoding to None\n",
    "    if not encoding or encoding in ['ISO-8859-1', 'big5', 'cp950']:\n",
    "        encoding = None\n",
    "\n",
    "    return encoding\n",
    "\n",
    "\n",
    "filename = 's4_credits2.txt'  # Define the filename of the text file to be read\n",
    "encoding_str = predictEncoding(filename)  # Call a function to predict the file's encoding\n",
    "print('\\n', encoding_str)  # Print the predicted encoding for verification\n",
    "\n",
    "my_dict = {}  # Initialize an empty dictionary to store key-value pairs\n",
    "\n",
    "# Open the file with the predicted encoding in read mode\n",
    "with open(filename, \"r\", encoding=encoding_str) as f:\n",
    "    # Iterate over each line in the file\n",
    "    for line in f:\n",
    "        # Strip whitespace from the line and split it into parts using ':' as the delimiter\n",
    "        words = line.strip().split(\":\")\n",
    "        \n",
    "        # The first part (before the colon) is the key; remove any leading/trailing whitespace\n",
    "        k = words[0].strip()\n",
    "        \n",
    "        # The second part (after the colon) is the value; remove any leading/trailing whitespace\n",
    "        v = words[1].strip()\n",
    "        \n",
    "        # Convert the value to an integer and store the key-value pair in the dictionary 'my_dict'\n",
    "        my_dict[k] = int(v)\n",
    "\n",
    "# Print the dictionary containing the key-value pairs\n",
    "print(my_dict, '\\n')"
   ]
  },
  {
   "cell_type": "markdown",
   "metadata": {},
   "source": [
    "<font><h3>s4_file_8_createDict_credits_3</h3></font>\n"
   ]
  },
  {
   "cell_type": "code",
   "execution_count": null,
   "metadata": {
    "collapsed": false
   },
   "outputs": [],
   "source": [
    "# Calculate grade average based on course credits\n",
    "\n",
    "\"\"\"\n",
    "Discrete Math : 3\n",
    "Calculus:   3\n",
    "Python: 3\n",
    " 中文 : 2\n",
    "歷史: 2     \n",
    "\"\"\"\n",
    "import os\n",
    "\n",
    "\"\"\"Open a file with correct encoding\"\"\"\n",
    "\n",
    "def predict_encoding(file_path):\n",
    "    '''Predict a file's encoding using chardet'''\n",
    "    import chardet\n",
    "    import os\n",
    "    encoding = ''\n",
    "    bytes = min(1024, os.path.getsize(file_path))\n",
    "\n",
    "    # Open the file as binary data\n",
    "    raw = open(file_path, 'rb').read(bytes)\n",
    "\n",
    "    result = chardet.detect(raw)\n",
    "    encoding = result['encoding']\n",
    "    print(f'\\n{file_path}: {encoding}')\n",
    "\n",
    "    if not encoding or encoding in ['ISO-8859-1', 'big5', 'cp950']:\n",
    "        encoding = None  # as default\n",
    "\n",
    "    return encoding\n",
    "\n",
    "\n",
    "dirname = \"files\"         # 檔案所在資料夾\n",
    "filename = 'credits.txt'  # 學分檔\n",
    "filepath = os.path.join(dirname, filename)\n",
    "\n",
    "\n",
    "# Create credit dict from credits.txt\n",
    "credits_dict = {}\n",
    "\n",
    "with open(filepath, encoding=predict_encoding(filepath)) as f:\n",
    "    for line in f:\n",
    "        words = line.strip().split(\":\")\n",
    "        k = words[0].strip()\n",
    "        v = words[1].strip()\n",
    "        credits_dict[k] = int(v)\n",
    "\n",
    "print(credits_dict)\n",
    "\n",
    "# Get grades and calculate average\n",
    "filename = 'grades2.csv'   # 成績檔\n",
    "filepath = os.path.join(dirname, filename)\n",
    "\n",
    "# encoding_str = predict_encoding(filepath)\n",
    "avg_list = []\n",
    "\n",
    "with open(filepath, encoding=predict_encoding(filepath)) as f:\n",
    "    lines = f.readlines()\n",
    "    top = lines[0]\n",
    "    courses = top.strip('\\n').split(',')[1:]\n",
    "    print(courses)\n",
    "    credits = [credits_dict.get(c, 0) for c in courses]\n",
    "    print(credits)\n",
    "    print()\n",
    "\n",
    "    # Iterate over each line in the 'lines' list, starting from the second line (skipping headers)\n",
    "    for line in lines[1:]:\n",
    "        # Remove the newline character from the end of the line and split the line into a list by commas\n",
    "        data = line.strip('\\n').split(',')\n",
    "    \n",
    "        # Get the student's ID from the first element of the list\n",
    "        sid = data[0]\n",
    "    \n",
    "        # Get the grades from the remaining elements of the list\n",
    "        grades = data[1:]\n",
    "    \n",
    "        # Initialize variables to accumulate total credits and total weighted scores\n",
    "        total_credits = 0\n",
    "        total_scores = 0\n",
    "    \n",
    "        # Iterate through the grades and their corresponding indices\n",
    "        for i, grade in enumerate(grades):\n",
    "            # Add the corresponding credit for the grade to total_credits\n",
    "            total_credits += credits[i]\n",
    "        \n",
    "            # Calculate the weighted score for the grade and add it to total_scores\n",
    "            total_scores += int(grade) * credits[i]\n",
    "    \n",
    "        # Calculate the average score by dividing total_scores by total_credits\n",
    "        avg = total_scores / total_credits\n",
    "    \n",
    "        # Append the calculated average score to the avg_list\n",
    "        avg_list.append(avg)\n",
    "    \n",
    "        # Print the student's ID and their average score formatted to two decimal places\n",
    "        print(\"{}: {:.2f}\".format(sid, avg))\n",
    "\n",
    "    # group averages by range\n",
    "    group_dict = {}\n",
    "\n",
    "    for avg in sorted(avg_list):\n",
    "        k = int(avg // 10) * 10\n",
    "        group_dict.setdefault(k, 0)\n",
    "        group_dict[k] = group_dict[k] + 1\n",
    "\n",
    "    print(list(group_dict.items()))"
   ]
  },
  {
   "cell_type": "markdown",
   "metadata": {},
   "source": [
    "<font><h3>s4_os_1_dir</h3></font>\n"
   ]
  },
  {
   "cell_type": "code",
   "execution_count": null,
   "metadata": {},
   "outputs": [],
   "source": [
    "# OS functions\n",
    "import os\n",
    "\n",
    "# Get the user's environment\n",
    "env_dict = dict(os.environ)\n",
    "for k, v in env_dict.items():\n",
    "    print(f\"{k}: {v}\")"
   ]
  },
  {
   "cell_type": "code",
   "execution_count": null,
   "metadata": {},
   "outputs": [],
   "source": [
    "# 檢視個別參數\n",
    "os.environ[\"OS\"]\n",
    "# os.environ['CONDA_PYTHON_EXE']"
   ]
  },
  {
   "cell_type": "code",
   "execution_count": null,
   "metadata": {},
   "outputs": [],
   "source": [
    "# os.getcwd(): Returns the current working directory.\n",
    "curDir = os.getcwd()\n",
    "\n",
    "# os.listdir(path): Return a list of the entries relative to the path.\n",
    "os.listdir(curDir)"
   ]
  },
  {
   "cell_type": "code",
   "execution_count": null,
   "metadata": {},
   "outputs": [],
   "source": [
    "# os.chdir(path): change current working directory to path\n",
    "os.chdir('..')\n",
    "os.getcwd()"
   ]
  },
  {
   "cell_type": "code",
   "execution_count": null,
   "metadata": {},
   "outputs": [],
   "source": [
    "# os.chdir('.')\n",
    "\n",
    "# os.mkdir(path): Create a directory named path with numeric mode.\n",
    "# will raise a FileExistsError if the directory already exists.\n",
    "os.mkdir('newDir')\n",
    "\n",
    "# os.rename(src, dst): Rename the file or directory src to dst.\n",
    "os.rename('newDir', 'newDir2')\n",
    "\n",
    "# os.rmdir(path): Remove (delete) the directory path.\n",
    "os.rmdir('newDir2')"
   ]
  },
  {
   "cell_type": "code",
   "execution_count": null,
   "metadata": {
    "collapsed": false
   },
   "outputs": [],
   "source": [
    "# os.makedirs(path): Recursive directory creation function.\n",
    "# Won't raise error if any directory already exists\n",
    "os.makedirs('test1/test11/test111', exist_ok=True)\n",
    "\n",
    "# os.removedirs(path): Remove directories recursively.\n",
    "# os.removedirs('test1\\\\test11\\\\test111')\n",
    "\n",
    "# os.remove(file_path): Remove (delete) the file path. only works on files\n",
    "# os.remove('test1\\\\test11\\\\test111')"
   ]
  },
  {
   "cell_type": "code",
   "execution_count": null,
   "metadata": {},
   "outputs": [],
   "source": [
    "# back to where we started\n",
    "os.chdir(homedir)\n",
    "os.listdir(os.getcwd())"
   ]
  },
  {
   "cell_type": "markdown",
   "metadata": {},
   "source": [
    "<font><h3>s4_os_2_path</h3></font>\n"
   ]
  },
  {
   "cell_type": "code",
   "execution_count": null,
   "metadata": {},
   "outputs": [],
   "source": [
    "import os\n",
    "\n",
    "# os.path.realpath() - Absolute pathname\n",
    "print(os.getcwd())\n",
    "print(os.path.realpath('.'))\n",
    "\n",
    "# convert a relative path to an absolute filename, use abspath().\n",
    "if not os.path.exists('test1'):\n",
    "    os.mkdir('test1')\n",
    "print(os.path.abspath('./test1'))"
   ]
  },
  {
   "cell_type": "code",
   "execution_count": null,
   "metadata": {},
   "outputs": [],
   "source": [
    "curDir = os.getcwd()\n",
    "# os.path.join() function constructs a pathname out of one or more partial path names.\n",
    "print(os.path.join(curDir, 'test', 'myfile.py'))\n",
    "print(os.path.join(curDir, '\\\\test', 'myfile.py'))  # / indicates absolute path\n",
    "\n",
    "# os.path.expanduser('~'):  get the current user's home directory\n",
    "print(\"\\nhome:\", os.path.expanduser('~'))\n",
    "pathname = os.path.join(os.path.expanduser('~'), 'test', 'myfile.py')\n",
    "print(\"pathname:\", pathname)"
   ]
  },
  {
   "cell_type": "code",
   "execution_count": null,
   "metadata": {},
   "outputs": [],
   "source": [
    "# os.path.split(pathname): split a pathname into a tuple of (dirname, filename)\n",
    "dirname, filename = os.path.split(pathname)\n",
    "print(\"\\nos.path.split() ...\")\n",
    "print(\"dirname\", \"=>\", dirname)\n",
    "print(\"filename\", \"=>\", filename)\n",
    "print()"
   ]
  },
  {
   "cell_type": "code",
   "execution_count": null,
   "metadata": {},
   "outputs": [],
   "source": [
    "# os.path.dirname(), os.path.basename()\n",
    "print(\"os.path.dirname(), os.path.basename()...\")\n",
    "print(\"dirname\", \"=>\", os.path.dirname(pathname))\n",
    "print(\"basename\", \"=>\", os.path.basename(pathname)) # part after the final slash\n",
    "print(\"join\", \"=>\", os.path.join(dirname, filename))"
   ]
  },
  {
   "cell_type": "code",
   "execution_count": null,
   "metadata": {},
   "outputs": [],
   "source": [
    "# os.path.splittext(): splits a filename into a tuple of (filename, extension)\n",
    "fname, ext = os.path.splitext(filename)\n",
    "print()\n",
    "print(\"fname:\", fname)\n",
    "print(\"ext:\", ext)\n",
    "print()"
   ]
  },
  {
   "cell_type": "code",
   "execution_count": null,
   "metadata": {},
   "outputs": [],
   "source": [
    "# __file__: not supported  in jupyter notebook\n",
    "# print(\"current dir:\", os.path.dirname(__file__))\n",
    "# print(\"current filename:\", os.path.basename(__file__))"
   ]
  },
  {
   "cell_type": "code",
   "execution_count": null,
   "metadata": {},
   "outputs": [],
   "source": [
    "# os.path.getsize(): checking file size\n",
    "print(os.path.getsize(\"C:\\\\Windows\\\\System32\\\\adsnt.dll\"))\n",
    "print()"
   ]
  },
  {
   "cell_type": "code",
   "execution_count": null,
   "metadata": {
    "collapsed": false
   },
   "outputs": [],
   "source": [
    "# pathlib\n",
    "from pathlib import Path\n",
    "\n",
    "print(\"----pathlib----\")\n",
    "print(f\"Current directory: {Path.cwd()}\")\n",
    "print(f\"Home directory: {Path.home()}\")\n",
    "\n",
    "path = Path.home()\n",
    "docs = path / 'Documents'\n",
    "\n",
    "print(docs)\n",
    "print(path.parts)\n",
    "print(path.drive)\n",
    "print(path.root)"
   ]
  },
  {
   "cell_type": "markdown",
   "metadata": {},
   "source": [
    "<font><h3>s4_os_3_size</h3></font>\n"
   ]
  },
  {
   "cell_type": "code",
   "execution_count": null,
   "metadata": {
    "collapsed": false
   },
   "outputs": [],
   "source": [
    "import os\n",
    "\n",
    "totalSize = 0\n",
    "pathname = 'C:\\\\Windows'\n",
    "\n",
    "for filename in os.listdir(pathname):\n",
    "    print(filename)  # relative file name\n",
    "    # os.path.getsize(filepath) needs absolute path\n",
    "    totalSize = totalSize + os.path.getsize(os.path.join(pathname, filename))\n",
    "\n",
    "print(pathname + \" has \" + str(totalSize/10**6) + \" Mbytes.\")"
   ]
  },
  {
   "cell_type": "markdown",
   "metadata": {},
   "source": [
    "<font><h3>s4_os_4_path_check</h3></font>\n"
   ]
  },
  {
   "cell_type": "code",
   "execution_count": null,
   "metadata": {
    "collapsed": false
   },
   "outputs": [],
   "source": [
    "# Check Path validity\n",
    "import os\n",
    "\n",
    "os.path.exists('C:\\\\Windows')"
   ]
  },
  {
   "cell_type": "code",
   "execution_count": null,
   "metadata": {},
   "outputs": [],
   "source": [
    "os.path.exists(\"C:\\\\some_made_up_folder\")"
   ]
  },
  {
   "cell_type": "code",
   "execution_count": null,
   "metadata": {},
   "outputs": [],
   "source": [
    "path = \"C:\\\\Windows\\\\System32\"\n",
    "os.path.isdir(path), os.path.isfile(path)"
   ]
  },
  {
   "cell_type": "code",
   "execution_count": null,
   "metadata": {},
   "outputs": [],
   "source": [
    "file_path = 'C:\\\\Windows\\\\System32\\\\calc.exe'\n",
    "os.path.isdir(file_path), os.path.isfile(file_path)"
   ]
  },
  {
   "cell_type": "code",
   "execution_count": null,
   "metadata": {},
   "outputs": [],
   "source": [
    "homedir"
   ]
  },
  {
   "cell_type": "markdown",
   "metadata": {},
   "source": [
    "<font><h3>s4_os_5_stat</h3></font>\n",
    "\n",
    "#### get file statistics: modified time, and etc\n"
   ]
  },
  {
   "cell_type": "code",
   "execution_count": null,
   "metadata": {
    "collapsed": false
   },
   "outputs": [],
   "source": [
    "\n",
    "import os\n",
    "import time\n",
    "from datetime import datetime\n",
    "from dateutil.tz import gettz\n",
    "\n",
    "# homedir is the folder where this ipynb file located\n",
    "filename = \"s4_os_2_path.py\"\n",
    "filepath = os.path.join(homedir, filename)\n",
    "st = os.stat(filepath)\n",
    "print(st)\n",
    "\n",
    "tz_tpe = gettz(\"Asia/Taipei\")\n",
    "fmt = \"%Y-%m-%d %H:%M:%S %z\"\n",
    "\n",
    "# time.localtime([ sec ]): convert number of seconds to local time\n",
    "time_local = time.localtime(st.st_mtime)\n",
    "print()\n",
    "print(time.strftime(fmt, time_local))\n",
    "\n",
    "# print(\"datetime tzinfo: \" , datetime.now().tzinfo) # default tz=None\n",
    "\n",
    "# datetime.fromtimestamp(timestamp, tz): create datetime object from timestamp\n",
    "# 1. Get file Modification time as a timestamp\n",
    "# 2. Convert the timestamp into a datetime object\n",
    "mtime = datetime.fromtimestamp(os.path.getmtime(filename), tz_tpe)\n",
    "print(mtime.strftime(fmt))"
   ]
  },
  {
   "cell_type": "markdown",
   "metadata": {},
   "source": [
    "<font><h1>s4_os_6_pandas_basic</h1></font>\n"
   ]
  },
  {
   "cell_type": "code",
   "execution_count": null,
   "metadata": {
    "collapsed": false
   },
   "outputs": [],
   "source": [
    "\n",
    "import os\n",
    "import pandas as pd\n",
    "\n",
    "data = [\n",
    "    ['s1101234', 90, 90, 80],\n",
    "    ['s1101266', 85, 90, 80],\n",
    "    ['s1101299', 99, 99, 99],\n",
    "]\n",
    "# Write to a new file\n",
    "folder = 'results'\n",
    "filename = \"grades_test.csv\"\n",
    "filepath = os.path.join(os.getcwd(), folder, filename)\n",
    "filepath2 = os.path.join(os.getcwd(), folder, \"grades_test.xlsx\")\n",
    "os.makedirs(folder, exist_ok=True)\n",
    "\n",
    "# Using Pandas\n",
    "df = pd.DataFrame(data, columns=[\"學號\", '科目1', '科目2', '科目3'])\n",
    "df.to_csv(filepath, encoding='utf-8-sig', index=None)\n",
    "# engine: 'openpyxl' or 'xlsxwriter'\n",
    "df.to_excel(filepath2, sheet_name=\"Grades\", engine=\"openpyxl\", index=None)\n",
    "print(\"\\nGrades saved to cvs file successfully.\\n\")"
   ]
  },
  {
   "cell_type": "markdown",
   "metadata": {},
   "source": [
    "<font><h3>s5_datetime_1</h3></font>\n"
   ]
  },
  {
   "cell_type": "markdown",
   "metadata": {},
   "source": [
    "Get current time and current weekday"
   ]
  },
  {
   "cell_type": "code",
   "execution_count": null,
   "metadata": {},
   "outputs": [],
   "source": [
    "from datetime import datetime, timedelta\n",
    "\n",
    "# Find current time\n",
    "dt = datetime.now()\n",
    "print(\"\\ncurrent datetime: \", dt)\n",
    "print(\"current date    : \", dt.date())\n",
    "print(dt.year, dt.month, dt.day)\n",
    "\n",
    "print(\"current datetime:\", datetime.today())\n",
    "\n",
    "print(\"current weekday:\", datetime.today().weekday())  # Monday is 0\n",
    "print(\"current weekday:\", datetime.today().isoweekday())  # Monday is 1"
   ]
  },
  {
   "cell_type": "markdown",
   "metadata": {},
   "source": [
    "Current time in different timezone or format"
   ]
  },
  {
   "cell_type": "code",
   "execution_count": null,
   "metadata": {},
   "outputs": [],
   "source": [
    "# now in different format\n",
    "from dateutil.tz import gettz\n",
    "\n",
    "tz_tpe = gettz(\"Asia/Taipei\")\n",
    "tz_tko = gettz(\"Asia/Tokyo\")\n",
    "fmt = \"%Y-%m-%d %H:%M:%S %z\"\n",
    "\n",
    "now = datetime.now(tz_tko)\n",
    "print(now.isoformat())\n",
    "print(now.strftime(fmt))"
   ]
  },
  {
   "cell_type": "code",
   "execution_count": null,
   "metadata": {},
   "outputs": [],
   "source": [
    "# Create a datetime object for specific date and time\n",
    "dt2 = datetime(2022, 3, 3, 0, 0, 0)\n",
    "print(\"dt2 datetime:\", dt2)\n",
    "\n",
    "# compare datetime objects\n",
    "print(\"dt2 is later than now(): \", dt2 > dt)"
   ]
  },
  {
   "cell_type": "code",
   "execution_count": null,
   "metadata": {},
   "outputs": [],
   "source": [
    "# timedelta data type\n",
    "two_days = timedelta(days=2, hours=3, minutes=10)\n",
    "\n",
    "dt_plus2 = dt + two_days\n",
    "print('dt_plus2 datetime:', dt_plus2)\n",
    "print('dt_plus2 is later than now(): ', dt_plus2 > dt)\n",
    "\n",
    "dt_minus2 = dt - two_days\n",
    "print('dt_minus2 datetime:', dt_minus2)\n",
    "print('dt_minus2 is later than now(): ', dt_minus2 > dt)"
   ]
  },
  {
   "cell_type": "markdown",
   "metadata": {},
   "source": [
    "    %a  Locale’s abbreviated weekday name.\n",
    "    %A  Locale’s full weekday name.\n",
    "    %b  Locale’s abbreviated month name.\n",
    "    %B  Locale’s full month name.\n",
    "    %c  Locale’s appropriate date and time representation.\n",
    "    %d  Day of the month as a decimal number [01,31].\n",
    "    %f  Microsecond as a decimal number [0,999999], zero-padded on the left\n",
    "    %H  Hour (24-hour clock) as a decimal number [00,23].\n",
    "    %I  Hour (12-hour clock) as a decimal number [01,12].\n",
    "    %j  Day of the year as a decimal number [001,366].\n",
    "    %m  Month as a decimal number [01,12].\n",
    "    %M  Minute as a decimal number [00,59].\n",
    "    %p  Locale’s equivalent of either AM or PM.\n",
    "    %S  Second as a decimal number [00,61].\n",
    "    %U  Week number of the year (Sunday as the first day of the week)\n",
    "    %w  Weekday as a decimal number [0(Sunday),6].\n",
    "    %W  Week number of the year (Monday as the first day of the week)\n",
    "    %x  Locale’s appropriate date representation.\n",
    "    %X  Locale’s appropriate time representation.\n",
    "    %y  Year without century as a decimal number [00,99].\n",
    "    %Y  Year with century as a decimal number.\n",
    "    %z  UTC offset in the form +HHMM or -HHMM.\n",
    "    %Z  Time zone name (empty string if the object is naive).\n",
    "    %%  A literal '%' character.\n"
   ]
  },
  {
   "cell_type": "code",
   "execution_count": null,
   "metadata": {},
   "outputs": [],
   "source": [
    "# strftime means string formatter, convert datetime object into string format\"\n",
    "# https://strftime.org/\n",
    "\n",
    "# note that stfrtime begins with a datetime object\n",
    "print(dt.strftime('%Y/%m/%d %H:%M:%S'))\n",
    "print(dt.strftime('%B %d, %Y'))  # January 01, 2018\n",
    "print(dt.strftime('%I:%M %p'))  # 00:00 AM/PM\n",
    "\n",
    "# print in default format: xxxx-xx-xx\n",
    "print(dt.date())"
   ]
  },
  {
   "cell_type": "code",
   "execution_count": null,
   "metadata": {},
   "outputs": [],
   "source": [
    "# strptime means string parser, this converts a string format to datetime.\n",
    "dt_object = datetime.strptime(\"March 4, 2017\", \"%B %d, %Y\")\n",
    "print(dt_object)\n",
    "\n",
    "print(dt_object.strftime(\"%B %d, %Y\"))"
   ]
  },
  {
   "cell_type": "code",
   "execution_count": null,
   "metadata": {},
   "outputs": [],
   "source": [
    "# convert unix timestamp string to readable date.\n",
    "\n",
    "# get current timestamp since January 1, 1970\n",
    "ts = datetime.now().timestamp()\n",
    "print(\"local timestamp in secs: \", ts)\n",
    "\n",
    "# create datetime object from timestamp\n",
    "dt4 = datetime.fromtimestamp(ts)\n",
    "\n",
    "# print in default format\n",
    "print(dt4.isoformat())\n",
    "\n",
    "# print in specific format\n",
    "print(dt4.strftime('%Y-%m-%d %H:%M:%S'))"
   ]
  },
  {
   "cell_type": "code",
   "execution_count": null,
   "metadata": {},
   "outputs": [],
   "source": [
    "# convert timestamp to datetime object with specific timezone\n",
    "from dateutil.tz import gettz, tzutc, tzlocal\n",
    "\n",
    "# Specific format\n",
    "fmt = '%Y-%m-%d %H:%M:%S %z'\n",
    "\n",
    "# Specific timezones: https://en.wikipedia.org/wiki/List_of_tz_database_time_zones\n",
    "tpe_tz = gettz('Asia/Taipei')\n",
    "ber_tz = gettz(\"Europe/Berlin\")\n",
    "utc_tz = gettz(\"UTC\")\n",
    "\n",
    "dt5_local = datetime.fromtimestamp(ts, tzlocal())\n",
    "# dt5_local = datetime.now(tzlocal())\n",
    "# print in specific format\n",
    "print(\"Local Time:\")\n",
    "print(dt5_local.strftime(fmt))\n",
    "\n",
    "# Converting between timezones using datetime.astimezone(new_tz)\n",
    "print(\"\\nUTC Time: \")\n",
    "dt5_utc = dt5_local.astimezone(utc_tz)  # tzutc()\n",
    "print(dt5_utc.strftime(fmt))\n",
    "\n",
    "print(\"\\nLocal Time in Berlin: \")\n",
    "dt5_berlin = dt5_local.astimezone(ber_tz)\n",
    "print(dt5_berlin.strftime(fmt))\n",
    "\n",
    "print(\"\\nLocal Time in Taipei: \")\n",
    "dt5_taipei = dt5_berlin.astimezone(tpe_tz)\n",
    "print(dt5_taipei.strftime(fmt))"
   ]
  },
  {
   "cell_type": "code",
   "execution_count": null,
   "metadata": {
    "collapsed": false
   },
   "outputs": [],
   "source": [
    "# 如何取得今天日期的字串 get today's date string\n",
    "\n",
    "today_str = datetime.now().strftime(\"%Y-%m-%d\")\n",
    "print(\"今天是： \" + today_str)\n",
    "\n",
    "today_str = str(datetime.now().date())\n",
    "print(\"今天是： \" + today_str)\n",
    "\n",
    "today_str = datetime.now().strftime(\"%x\") # local machine format\n",
    "print(\"今天是： \" + today_str)"
   ]
  },
  {
   "cell_type": "markdown",
   "metadata": {},
   "source": [
    "#### n months later or before\n"
   ]
  },
  {
   "cell_type": "code",
   "execution_count": null,
   "metadata": {},
   "outputs": [],
   "source": [
    "# Use dateutil.relativedelta for exact month's days\n",
    "from datetime import date\n",
    "from dateutil.relativedelta import relativedelta\n",
    "\n",
    "one_month_before = date.today() + relativedelta(months=-1)\n",
    "six_months_later = date.today() + relativedelta(months=+6)\n",
    "print(\"One month before today:\", one_month_before)\n",
    "print(\"Six months  from today:\", six_months_later)"
   ]
  },
  {
   "cell_type": "code",
   "execution_count": null,
   "metadata": {},
   "outputs": [],
   "source": [
    "# one_month_ago, alternative solution\n",
    "from datetime import datetime, timedelta\n",
    "\n",
    "# Find today's datetime object\n",
    "d = date.today()\n",
    "\n",
    "# Use d.day to get the `day` attribute that represents the day in a month (1-31)\n",
    "print(d.day)\n",
    "\n",
    "# change to the last day of the previous month (前一個月的最後一天)， \n",
    "# then change the day component to today's day (改成今天的日子)\n",
    "one_month_before = (d.replace(day=1) - timedelta(days=1)).replace(day=d.day)\n",
    "print(one_month_before)\n",
    "\n",
    "# Change to some day after 180 days, the change the day component to today's day， # 先改成 180天之後的某一天，再改成今天的日子\n",
    "six_months_later = (d + timedelta(days=183)).replace(day=d.day)\n",
    "print(six_months_later)"
   ]
  }
 ],
 "metadata": {
  "kernelspec": {
   "display_name": "base",
   "language": "python",
   "name": "python3"
  },
  "language_info": {
   "codemirror_mode": {
    "name": "ipython",
    "version": 3
   },
   "file_extension": ".py",
   "mimetype": "text/x-python",
   "name": "python",
   "nbconvert_exporter": "python",
   "pygments_lexer": "ipython3",
   "version": "3.11.9"
  }
 },
 "nbformat": 4,
 "nbformat_minor": 2
}
