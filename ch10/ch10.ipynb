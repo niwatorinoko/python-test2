{
 "cells": [
  {
   "cell_type": "markdown",
   "id": "f945a329",
   "metadata": {},
   "source": [
    "# Ch10 資料夾與檔案\n",
    "## 10-1　資料夾與檔案相關模組\n",
    "### (10-1-1-找出檔案與資料夾.py)10-1-1　找出C 磁碟下的檔案與資料夾"
   ]
  },
  {
   "cell_type": "code",
   "execution_count": null,
   "id": "5b4f6786",
   "metadata": {},
   "outputs": [],
   "source": [
    "import os\n",
    "os.chdir('c:\\\\')\n",
    "print(os.getcwd())\n",
    "fds = os.listdir('c:\\\\')\n",
    "for fd in fds:\n",
    "    if os.path.isdir(fd):\n",
    "        print('資料夾:', fd)\n",
    "    else:\n",
    "        print('檔案:', fd)"
   ]
  },
  {
   "cell_type": "markdown",
   "id": "971dd2b0",
   "metadata": {},
   "source": [
    "### (10-1-2-串列生成式.py)  10-1-2　使用串列生成式找出C 磁碟下的檔案與資料夾"
   ]
  },
  {
   "cell_type": "code",
   "execution_count": null,
   "id": "dc2dd6c3",
   "metadata": {},
   "outputs": [],
   "source": [
    "import os\n",
    "path = \"c:\\\\\"\n",
    "files = [f for f in os.listdir(path) if os.path.isfile(os.path.join(path, f))]\n",
    "dirs = [d for d in os.listdir(path) if os.path.isdir(os.path.join(path, d))]\n",
    "print(files)\n",
    "print(dirs)"
   ]
  },
  {
   "cell_type": "markdown",
   "id": "efef975c",
   "metadata": {},
   "source": [
    "### (10-1-3-模組glob.py)  10-1-3　使用模組glob 列出附檔名為py 的檔案"
   ]
  },
  {
   "cell_type": "code",
   "execution_count": null,
   "id": "533d9bcf",
   "metadata": {},
   "outputs": [],
   "source": [
    "import glob, os\n",
    "path = \"c:\\\\Users\\\\user\"\n",
    "os.chdir(path)\n",
    "for file in glob.glob(\"*.py\"):\n",
    "    print(file)"
   ]
  },
  {
   "cell_type": "markdown",
   "id": "0fe7cd97",
   "metadata": {},
   "source": [
    "### (10-1-4-遞迴列出資料夾與檔案.py)  10-1-4　使用遞迴列出所有資料夾與檔案"
   ]
  },
  {
   "cell_type": "code",
   "execution_count": null,
   "id": "17f3de94",
   "metadata": {},
   "outputs": [],
   "source": [
    "import os\n",
    "path = 'c:\\\\Users'\n",
    "def find_dir(dir):\n",
    "    fds = os.listdir(dir)\n",
    "    for fd in fds:\n",
    "        full_path = os.path.join(dir, fd)\n",
    "        if os.path.isdir(full_path):\n",
    "            print('資料夾:',full_path)\n",
    "            find_dir(full_path)\n",
    "        else:\n",
    "            print('檔案:', full_path)\n",
    "find_dir(path)"
   ]
  },
  {
   "cell_type": "markdown",
   "id": "9f1b3254",
   "metadata": {},
   "source": [
    "### (10-1-5-使用os.walk列出所有Python檔案.py)  10-1-5　使用os.walk 列出所有Python 檔案"
   ]
  },
  {
   "cell_type": "code",
   "execution_count": null,
   "id": "94a737b1",
   "metadata": {
    "scrolled": false
   },
   "outputs": [],
   "source": [
    "import os\n",
    "path = \"c:\\\\Users\"\n",
    "for root, dirs, files in os.walk(path):\n",
    "    for file in files:\n",
    "        if file.endswith(\".py\"):\n",
    "             print(os.path.join(root, file))"
   ]
  },
  {
   "cell_type": "markdown",
   "id": "1a0b39bd",
   "metadata": {},
   "source": [
    "### (10-1-6-使用os.walk列出所有JPG與PNG檔案.py)  10-1-6　使用os.walk 列出所有JPG 與PNG 檔案"
   ]
  },
  {
   "cell_type": "code",
   "execution_count": null,
   "id": "3d8e2d30",
   "metadata": {},
   "outputs": [],
   "source": [
    "import fnmatch, os\n",
    "path = \"c:\\\\Users\"\n",
    "exts = ['*.jpg', '*.jpeg', '*.png', '*.tif']\n",
    "matches = []\n",
    "for root, dirs, files in os.walk(path):\n",
    "    for ext in exts:\n",
    "        for file in fnmatch.filter(files, ext):\n",
    "            matches.append(os.path.join(root, file))\n",
    "for image in matches:\n",
    "    print(image)"
   ]
  },
  {
   "cell_type": "markdown",
   "id": "14f65de1",
   "metadata": {},
   "source": [
    "## 10-2　存取文字檔\n",
    "### (10-2-1-使用函式read讀取.py)  10-2-1　使用函式read 讀取純文字檔"
   ]
  },
  {
   "cell_type": "code",
   "execution_count": null,
   "id": "a2f68229",
   "metadata": {},
   "outputs": [],
   "source": [
    "fin = open('poem.txt','rt',encoding='utf-8')  #將檔案poem.txt複製到Jupyter Notebook的家目錄\n",
    "s=fin.read()\n",
    "print(s)\n",
    "fin.close()\n"
   ]
  },
  {
   "cell_type": "markdown",
   "id": "bdd27ae8",
   "metadata": {},
   "source": [
    "### (10-2-2-使用for迴圈讀取.py)  10-2-2　使用for 迴圈讀取純文字檔"
   ]
  },
  {
   "cell_type": "code",
   "execution_count": null,
   "id": "9f92d299",
   "metadata": {},
   "outputs": [],
   "source": [
    "fin = open('poem.txt','rt',encoding='utf-8')\n",
    "for line in fin:\n",
    "    print(line.rstrip())\n",
    "fin.close()"
   ]
  },
  {
   "cell_type": "markdown",
   "id": "9d5fe472",
   "metadata": {},
   "source": [
    "### (10-2-3-讀取Python檔的程式.py)  10-2-3　讀取指定資料夾下所有Python 檔的程式"
   ]
  },
  {
   "cell_type": "code",
   "execution_count": null,
   "id": "b608befe",
   "metadata": {},
   "outputs": [],
   "source": [
    "import glob\n",
    "python_files = glob.glob('C:\\\\Users\\\\user\\\\*.py')\n",
    "for file_name in python_files:\n",
    "    print('檔案為' + file_name)\n",
    "    with open(file_name) as f:\n",
    "        for line in f:\n",
    "            print(line.rstrip())\n",
    "    print()"
   ]
  },
  {
   "cell_type": "markdown",
   "id": "3141f0aa",
   "metadata": {},
   "source": [
    "### (10-2-4-寫入檔案.py)  10-2-4　將字串寫入檔案"
   ]
  },
  {
   "cell_type": "code",
   "execution_count": null,
   "id": "d9889f37",
   "metadata": {},
   "outputs": [],
   "source": [
    "s='昔人已乘黃鶴去，此地空余黃鶴樓。\\\n",
    "黃鶴一去不復返，白雲千載空悠悠。'#崔顥 黃鶴樓\n",
    "with open('poem.txt','wt',encoding='utf-8') as fout:\n",
    "    print(s,file=fout)\n",
    "    fout.write(s)"
   ]
  },
  {
   "cell_type": "markdown",
   "id": "b7fdd702",
   "metadata": {},
   "source": [
    "### (10-2-5-try-except.py)  10-2-5　將字串寫入檔案，使用try 偵測錯誤"
   ]
  },
  {
   "cell_type": "code",
   "execution_count": null,
   "id": "894fe6f7",
   "metadata": {},
   "outputs": [],
   "source": [
    "s='昔人已乘黃鶴去，此地空余黃鶴樓。\\\n",
    "黃鶴一去不復返，白雲千載空悠悠'#崔顥 黃鶴樓\n",
    "try:\n",
    "    with open('poem.txt','wt',encoding='utf-8') as fout:\n",
    "        fout.write(s)\n",
    "except:\n",
    "    print('無法寫入檔案')"
   ]
  },
  {
   "cell_type": "markdown",
   "id": "0330d738",
   "metadata": {},
   "source": [
    "### (10-2-6-拷貝檔案.py) 10-2-6　拷貝檔案"
   ]
  },
  {
   "cell_type": "code",
   "execution_count": null,
   "id": "22d9d66e",
   "metadata": {},
   "outputs": [],
   "source": [
    "fin=open('poem.txt','rt',encoding='utf-8')\n",
    "fout=open('poem2.txt','wt',encoding='utf-8')\n",
    "line=fin.readline()\n",
    "while line:\n",
    "    fout.write(line)\n",
    "    line=fin.readline()\n",
    "fin.close()\n",
    "fout.close()"
   ]
  },
  {
   "cell_type": "markdown",
   "id": "86d84a83",
   "metadata": {},
   "source": [
    "### (10-2-7-費氏數列儲存到檔案.py)  10-2-7　產生費氏數列儲存到檔案"
   ]
  },
  {
   "cell_type": "code",
   "execution_count": null,
   "id": "3e566cd3",
   "metadata": {},
   "outputs": [],
   "source": [
    "fout=open('fib.txt','wt')\n",
    "def fib(num):\n",
    "    count = 1\n",
    "    a = 1\n",
    "    b = 1\n",
    "    print(count, a, file=fout)\n",
    "    while(count < num):\n",
    "        a, b = b, a+b\n",
    "        count += 1\n",
    "        print(count, a, file=fout)\n",
    "fib(1000)\n",
    "fout.close()"
   ]
  },
  {
   "cell_type": "markdown",
   "id": "db7b3df4",
   "metadata": {},
   "source": [
    "## 10-3　存取csv 檔\n",
    "### (10-3-1-寫入與讀取csv檔.py)  10-3-1　使用模組csv 對csv 檔進行寫入與讀取"
   ]
  },
  {
   "cell_type": "code",
   "execution_count": null,
   "id": "45bebd35",
   "metadata": {},
   "outputs": [],
   "source": [
    "import csv\n",
    "with open('99.csv', 'wt', newline='') as fout:\n",
    "    writer = csv.writer(fout)\n",
    "    for i in range(1,10):\n",
    "        for j in range(1,10):\n",
    "            writer.writerows([(str(i),str(j),str(i*j))])\n",
    "with open('99.csv', 'rt') as fin:\n",
    "    reader = csv.reader(fin)\n",
    "    rows = [row for row in reader]\n",
    "    print(rows)"
   ]
  },
  {
   "cell_type": "markdown",
   "id": "c7bc99af",
   "metadata": {},
   "source": [
    "### (10-3-2-寫入與讀取csv檔並加上標題.py)  10-3-2　使用模組csv 寫入與讀取csv 檔並加上標題"
   ]
  },
  {
   "cell_type": "code",
   "execution_count": null,
   "id": "6085e7be",
   "metadata": {},
   "outputs": [],
   "source": [
    "import csv\n",
    "with open('99.csv', 'wt', newline='') as fout:\n",
    "    writer = csv.writer(fout)\n",
    "    for i in range(1,10):\n",
    "        for j in range(1,10):\n",
    "            writer.writerows([(str(i),str(j),str(i*j))])\n",
    "with open('99.csv', 'rt') as fin:\n",
    "    reader = csv.DictReader(fin, fieldnames=['被乘數','乘數','積'])\n",
    "    rows = [row for row in reader]\n",
    "    print(rows)\n",
    "    fout = open('99b.csv', 'wt',newline='',encoding='utf-8')\n",
    "    writer = csv.DictWriter(fout, fieldnames=['被乘數','乘數','積'])\n",
    "    writer.writeheader()\n",
    "    writer.writerows(rows)\n",
    "    fout.close()"
   ]
  },
  {
   "cell_type": "markdown",
   "id": "360f67e8",
   "metadata": {},
   "source": [
    "## 10-4　存取二進位檔\n",
    "### (10-4-1-產生二進位資料.py)  10-4-1　產生二進位資料"
   ]
  },
  {
   "cell_type": "code",
   "execution_count": null,
   "id": "4b11b715",
   "metadata": {},
   "outputs": [],
   "source": [
    "mbytes=bytes(range(0,32))\n",
    "print(mbytes)\n",
    "mbytearray=bytearray(range(0,32))\n",
    "print(mbytearray)"
   ]
  },
  {
   "cell_type": "markdown",
   "id": "3948be6e",
   "metadata": {},
   "source": [
    "### (10-4-2-存取二進位檔案.py)  10-4-2　存取二進位檔案"
   ]
  },
  {
   "cell_type": "code",
   "execution_count": null,
   "id": "d2a2b816",
   "metadata": {},
   "outputs": [],
   "source": [
    "bindata = bytes(range(0,32))\n",
    "with open('binfile','wb') as fout:\n",
    "    fout.write(bindata)\n",
    "with open('binfile','rb') as fin:\n",
    "    binary = fin.read()\n",
    "    print(binary)"
   ]
  },
  {
   "cell_type": "markdown",
   "id": "0c5dddbd",
   "metadata": {},
   "source": [
    "### (10-4-3-模組pickle.py)  10-4-3　使用模組pickle 將物件轉換成二進位檔案"
   ]
  },
  {
   "cell_type": "code",
   "execution_count": null,
   "id": "228db5d3",
   "metadata": {},
   "outputs": [],
   "source": [
    "import pickle\n",
    "mylist = [a for a in range(1,10)]\n",
    "with open('pickle','wb') as fout:\n",
    "    pickle.dump(mylist,fout)\n",
    "with open('pickle','rb') as fin:\n",
    "    p = pickle.load(fin)\n",
    "    print(p)"
   ]
  }
 ],
 "metadata": {
  "kernelspec": {
   "display_name": "Python 3 (ipykernel)",
   "language": "python",
   "name": "python3"
  },
  "language_info": {
   "codemirror_mode": {
    "name": "ipython",
    "version": 3
   },
   "file_extension": ".py",
   "mimetype": "text/x-python",
   "name": "python",
   "nbconvert_exporter": "python",
   "pygments_lexer": "ipython3",
   "version": "3.9.7"
  }
 },
 "nbformat": 4,
 "nbformat_minor": 5
}
