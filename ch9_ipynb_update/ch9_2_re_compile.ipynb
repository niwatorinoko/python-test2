{
 "cells": [
  {
   "cell_type": "markdown",
   "metadata": {},
   "source": [
    "## re.compile(): \n",
    "to create efficient and reusable regex patterns"
   ]
  },
  {
   "cell_type": "code",
   "execution_count": 2,
   "metadata": {},
   "outputs": [
    {
     "name": "stdout",
     "output_type": "stream",
     "text": [
      "['Jason', 'Kelly']\n",
      "['Willy', 'Alice']\n"
     ]
    }
   ],
   "source": [
    "# re.compile\n",
    "import re\n",
    "\n",
    "# Look for 5-letter word\n",
    "pat = r\"\\b\\w{5}\\b\"\n",
    "regex = re.compile(pat)\n",
    "data1 = \"Jason and Kelly\"\n",
    "data2 = 'Willy and Alice\"'\n",
    "\n",
    "result1 = regex.findall(data1)\n",
    "print(result1)\n",
    "\n",
    "result2 = regex.findall(data2)\n",
    "print(result2)\n",
    "\n",
    "assert re.findall(regex, data1) == regex.findall(data1)"
   ]
  },
  {
   "cell_type": "markdown",
   "metadata": {},
   "source": [
    "## re.escape()\n",
    "\n",
    "+ used to escape special characters within a given regex pattern.\n",
    "+ ensures that any characters with special meanings in regex (such as `.`, `+`, `()`, etc.) are treated as literal characters."
   ]
  },
  {
   "cell_type": "code",
   "execution_count": 1,
   "metadata": {},
   "outputs": [
    {
     "name": "stdout",
     "output_type": "stream",
     "text": [
      "[abcdefghijklmnopqrstuvwxyz0123456789\\(\\)!\\#\\$%\\&'\\*\\+\\-\\.\\^_`\\|\\~:]+\n",
      "/|\\-|\\+|\\*\\*|\\*\n"
     ]
    }
   ],
   "source": [
    "# re.escape\n",
    "import string\n",
    "import re\n",
    "\n",
    "legal_chars = string.ascii_lowercase + string.digits + \"()!#$%&'*+-.^_`|~:\"\n",
    "print('[%s]+' % re.escape(legal_chars))\n",
    "\n",
    "operators = ['+', '-', '*', '/', '**']\n",
    "print('|'.join(map(re.escape, sorted(operators, reverse=True))))\n",
    "# print(list(map(re.escape, sorted(operators, reverse=True))))"
   ]
  }
 ],
 "metadata": {
  "kernelspec": {
   "display_name": "Python 3.9.7 ('base')",
   "language": "python",
   "name": "python3"
  },
  "language_info": {
   "codemirror_mode": {
    "name": "ipython",
    "version": 3
   },
   "file_extension": ".py",
   "mimetype": "text/x-python",
   "name": "python",
   "nbconvert_exporter": "python",
   "pygments_lexer": "ipython3",
   "version": "3.9.7"
  },
  "orig_nbformat": 4,
  "vscode": {
   "interpreter": {
    "hash": "e2cbf29cf38d3d20cb12d146974e3fab8d0a465ea19dc79e07342b6e84a36aaf"
   }
  }
 },
 "nbformat": 4,
 "nbformat_minor": 2
}
