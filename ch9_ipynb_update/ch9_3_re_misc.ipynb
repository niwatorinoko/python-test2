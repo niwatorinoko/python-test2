{
 "cells": [
  {
   "cell_type": "markdown",
   "metadata": {},
   "source": [
    "# Regular expression misc"
   ]
  },
  {
   "cell_type": "markdown",
   "metadata": {},
   "source": [
    "## Capturing vs. non-capturing groups"
   ]
  },
  {
   "cell_type": "code",
   "execution_count": 11,
   "metadata": {},
   "outputs": [
    {
     "name": "stdout",
     "output_type": "stream",
     "text": [
      "[('e.g', ''), ('E.g', ''), ('E.G.', '.'), ('e.g.', '.')]\n",
      "[('e.g', 'e.g', None), (' E.g', 'E.g', None), (' E.G.', 'E.G.', '.'), (' e.g.', 'e.g.', '.')]\n"
     ]
    }
   ],
   "source": [
    "# 找出字串中所有 e.g or e.g. (不分大小寫)\n",
    "# Find all e.g or e.g. (case-insensitive)\n",
    "\n",
    "import re\n",
    "\n",
    "# https://regex101.com/r/8MEb0b/1\n",
    "\n",
    "pat = \"(?:^|\\s)([e]\\.[g](\\.)?)(?=\\s|$)\"\n",
    "\n",
    "# Non-capturing group: (?:^|\\s)\n",
    "## 1st Alternative: ^ asserts position at start of a line\n",
    "## 2nd Alternative: \\s matches any whitespace character \n",
    "\n",
    "# 1st Capturing Group: ([e]\\.[g](\\.)?)\n",
    "## Match a single character present in the list below [e]\n",
    "## \\. matches the character . \n",
    "## Match a single character present in the list below [g]\n",
    "\n",
    "# 2nd Capturing Group: (\\.)?\n",
    "## ? matches the previous token between zero and one times,\n",
    "\n",
    "# Positive Lookahead: (?=\\s|$)\n",
    "## Assert that the Regex below matches\n",
    "## 1st Alternative \\s matches any whitespace character \n",
    "## 2nd Alternative $ asserts position at the end of a line\n",
    "\n",
    "data = \"e.g  E.g E.G. e.g.\"\n",
    "regex = re.compile(pat, re.IGNORECASE)     # note the IGNORECASE\n",
    "print(regex.findall(data))\n",
    "\n",
    "matches = regex.finditer(data)\n",
    "ans = [(m.group(0), m.group(1), m.group(2)) for m in matches]\n",
    "print(ans)"
   ]
  },
  {
   "cell_type": "markdown",
   "metadata": {},
   "source": [
    "## The list returned by re.findall"
   ]
  },
  {
   "cell_type": "markdown",
   "metadata": {},
   "source": [
    "r'(Mr|Ms|Mrs)\\\\.?\\s[A-Z]\\w*' \n",
    "\n",
    "+ `(Mr|Ms|Mrs)`: This part of the pattern is a group that matches one of the specified honorific titles. The | symbol acts as an OR operator, allowing it to match any of the three titles: “Mr”, “Ms”, or “Mrs”.\n",
    "\n",
    "+ `\\\\.?`: The dot (.) is a special character in regular expressions that matches any character except for a newline. The \\\\ before the dot is an escape sequence to treat it as a literal dot. The ? following the dot makes it optional, allowing for both “Mr” and “Mr.” to match.\n",
    "+ `\\\\s`: This matches any whitespace character (such as a space or tab).\n",
    "\n",
    "+ `[A-Z]`: This character class matches any uppercase letter.\n",
    "\n",
    "+ `\\\\w*`: The \\w represents any word character (letters, digits, or underscores), and the * quantifier means zero or more occurrences. So, this part matches any sequence of word characters (e.g., a name)."
   ]
  },
  {
   "cell_type": "code",
   "execution_count": 2,
   "metadata": {},
   "outputs": [
    {
     "name": "stdout",
     "output_type": "stream",
     "text": [
      "['Mr', 'Mr', 'Mrs', 'Mr']\n",
      "['Mr. Schafer', 'Mr Smith', 'Ms davis', 'Mrs. Robinson', 'Mr. T', 'Mr z']\n",
      "[('Mr', 'Schafer'), ('Mr', 'Smith'), ('Mrs', 'Robinson'), ('Mr', 'T')]\n"
     ]
    }
   ],
   "source": [
    "# The list returned by re.findall contains:\n",
    "\n",
    "## 1. the text of each match, if the regex has no captures\n",
    "## 2. the text of the capture in each match, if the regex has exactly one capture\n",
    "## 3. a tuple of substrings for each capture, if the regex has has more than one capture.\n",
    "\n",
    "import re\n",
    "\n",
    "# https://regex101.com/r/EEGVyC/1\n",
    "\n",
    "text2 = '''\n",
    "Mr. Schafer\n",
    "Mr Smith\n",
    "Ms davis\n",
    "Mrs. Robinson\n",
    "Mr. T\n",
    "Mr z\n",
    "'''\n",
    "\n",
    "regex1 = r'(Mr|Ms|Mrs)\\.?\\s[A-Z]\\w*'  \t\t\t# one capture\n",
    "regex2 = r'(?:Mr|Ms|Mrs)\\.?\\s[A-Z]\\w*'\t\t\t# no capture, show the matched text\n",
    "regex3 = r'(?:(Mr|Ms|Mrs)\\.?\\s([A-Z]\\w*))'  # two captures, don't show the matched text\n",
    "\n",
    "print(re.findall(regex1, text2))\n",
    "print(re.findall(regex2, text2, re.IGNORECASE))\n",
    "print(re.findall(regex3, text2))"
   ]
  },
  {
   "cell_type": "markdown",
   "metadata": {},
   "source": [
    "## non capturing group vs. positive look ahead"
   ]
  },
  {
   "cell_type": "code",
   "execution_count": 3,
   "metadata": {},
   "outputs": [
    {
     "name": "stdout",
     "output_type": "stream",
     "text": [
      "<re.Match object; span=(0, 2), match='ab'> ab b\n",
      "<re.Match object; span=(6, 8), match='ab'> ab b\n",
      "['b', 'b']\n"
     ]
    }
   ],
   "source": [
    "# ?:  is for non capturing group\n",
    "# ?=  is for positive look ahead \n",
    "#  if you want to match something followed by something else without including the else\n",
    "# ?!  is for negative look ahead\n",
    "# ?<= is for positive look behind\n",
    "# ?<! is for negative look behind\n",
    "\n",
    "# for example a(?:b) will match the \"ab\" in \"abc\", i.e., the matched text must contain 'b', but\n",
    "# wouldn't capture 'b' as a group \n",
    "# while a(?=b) will only match the \"a\" (that followed by 'b') in \"abc\". \n",
    "# a(b) would match the \"ab\" in \"abc\" and create a capture containing the \"b\".\n",
    "\n",
    "import re\n",
    "\n",
    "s= 'abcefgab'\n",
    "\n",
    "# re.finditer() returns iterator of matched objects in the string \n",
    "# while re.findall() returns list of matched patterns in the string.\n",
    "\n",
    "matches = re.finditer(r'a(b)', s)\n",
    "for m in matches:\n",
    "  print(m, m.group(0), m.group(1))\n",
    "\n",
    "matches = re.findall(r'a(b)', s)\n",
    "print(matches)\n"
   ]
  },
  {
   "cell_type": "code",
   "execution_count": 4,
   "metadata": {},
   "outputs": [
    {
     "name": "stdout",
     "output_type": "stream",
     "text": [
      "<re.Match object; span=(0, 2), match='ab'> ab\n",
      "<re.Match object; span=(6, 8), match='ab'> ab\n",
      "['ab', 'ab']\n"
     ]
    }
   ],
   "source": [
    "matches = re.finditer(r'a(?:b)', s) # no capture,show the matched text\n",
    "for m in matches:\n",
    "  print(m, m.group(0))\n",
    "\t\n",
    "matches = re.findall(r'a(?:b)', s)  # no capture,show the matched text\n",
    "print(matches)"
   ]
  },
  {
   "cell_type": "code",
   "execution_count": 5,
   "metadata": {},
   "outputs": [
    {
     "name": "stdout",
     "output_type": "stream",
     "text": [
      "<re.Match object; span=(0, 1), match='a'> a\n",
      "<re.Match object; span=(6, 7), match='a'> a\n",
      "['a', 'a']\n"
     ]
    }
   ],
   "source": [
    "# find 'a' that is followed by 'b'\n",
    "matches = re.finditer(r'a(?=b)', s)\n",
    "for m in matches:\n",
    "  print(m, m.group(0))\n",
    "\t\n",
    "matches = re.findall(r'a(?=b)', s)\n",
    "print(matches)"
   ]
  },
  {
   "cell_type": "markdown",
   "metadata": {},
   "source": [
    "## Regex findall repeated characters"
   ]
  },
  {
   "cell_type": "code",
   "execution_count": 9,
   "metadata": {},
   "outputs": [
    {
     "name": "stdout",
     "output_type": "stream",
     "text": [
      "J, e, ss, a, E, rr, ii, k, a, aaa, \n",
      "aaa, \n",
      "Jessa, Erriika, aaa, \n"
     ]
    }
   ],
   "source": [
    "import re\n",
    "\n",
    "# https://regex101.com/r/k0MVvE/1\n",
    "\n",
    "target_string = \"Jessa Erriika aaa\"\n",
    "\n",
    "# This '\\w' matches any single character\n",
    "# and then its repetitions (\\1*) if any.\n",
    "regex = re.compile(r\"(\\w)\\1*\")\n",
    "\n",
    "for match in regex.finditer(target_string):\n",
    "    print(match.group(), end=\", \")\n",
    "print()\n",
    "# output J, e, ss, a, E, rr, ii, k, a,\n",
    "\n",
    "# This '\\w' matches any single character\n",
    "# and then its repetitions (\\1{n}) n times.\n",
    "n = 2\n",
    "regex = re.compile(fr\"(\\w)\\1{{{n}}}\")\n",
    "\n",
    "for match in regex.finditer(target_string):\n",
    "    print(match.group(), end=\", \")\n",
    "print()\n",
    "# output n=1: ss, rr, ii, aa; n=2: aaa\n",
    "\n",
    "# Regex findall mutiple characters\n",
    "# This '\\w' matches any single character\n",
    "# and then its greedy quantifier {n,m} if any.\n",
    "regex = re.compile(r\"(\\w){1,}\")\n",
    "\n",
    "for match in regex.finditer(target_string):\n",
    "    print(match.group(), end=\", \")\n",
    "print()\n",
    "# output Jessa, Erriika"
   ]
  },
  {
   "cell_type": "code",
   "execution_count": 10,
   "metadata": {},
   "outputs": [
    {
     "name": "stdout",
     "output_type": "stream",
     "text": [
      "5555, 6666, \n",
      "555, 512, 346, 666, \n",
      "555, \n"
     ]
    }
   ],
   "source": [
    "# Regex findall repeated characters n+1 times\n",
    "# https://regex101.com/r/C5F4iK/1\n",
    "\n",
    "numbers = '555512346666'\n",
    "\n",
    "# Note (\\d) is the first captured-group.\n",
    "regex = re.compile(r\"(\\d)\\1{3}\")\n",
    "for match in regex.finditer(numbers):\n",
    "    print(match.group(), end=\", \")\n",
    "print()\n",
    "\n",
    "# any combinations of 3 digits\n",
    "regex = re.compile(r\"(\\d){3}\")\n",
    "for match in regex.finditer(numbers):\n",
    "    print(match.group(), end=\", \")\n",
    "print()\n",
    "\n",
    "# three repeated 5\n",
    "regex = re.compile(r\"(5){3}\")\n",
    "for match in regex.finditer(numbers):\n",
    "    print(match.group(), end=\", \")\n",
    "print()"
   ]
  }
 ],
 "metadata": {
  "kernelspec": {
   "display_name": "Python 3.9.7 ('base')",
   "language": "python",
   "name": "python3"
  },
  "language_info": {
   "codemirror_mode": {
    "name": "ipython",
    "version": 3
   },
   "file_extension": ".py",
   "mimetype": "text/x-python",
   "name": "python",
   "nbconvert_exporter": "python",
   "pygments_lexer": "ipython3",
   "version": "3.11.5"
  },
  "orig_nbformat": 4,
  "vscode": {
   "interpreter": {
    "hash": "e2cbf29cf38d3d20cb12d146974e3fab8d0a465ea19dc79e07342b6e84a36aaf"
   }
  }
 },
 "nbformat": 4,
 "nbformat_minor": 2
}
