# This is a randomly generated Python file!
print('Hello from C_07371.ipynb!')
