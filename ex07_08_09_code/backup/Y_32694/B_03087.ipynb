# This is a randomly generated Python file!
print('Hello from B_03087.ipynb!')
