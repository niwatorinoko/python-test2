{
 "cells": [
  {
   "cell_type": "markdown",
   "id": "ddf5b00a",
   "metadata": {},
   "source": [
    "# Ch9 進階字串處理\n",
    "## 9-1　ASCII 編碼\n",
    "### (9-1-1-模組string.py)9-1-1　模組string"
   ]
  },
  {
   "cell_type": "code",
   "execution_count": 6,
   "id": "a81abc91",
   "metadata": {},
   "outputs": [
    {
     "name": "stdout",
     "output_type": "stream",
     "text": [
      "ascii_letters為 abcdefghijklmnopqrstuvwxyzABCDEFGHIJKLMNOPQRSTUVWXYZ\n",
      "ascii_lowercase為 abcdefghijklmnopqrstuvwxyz\n",
      "ascii_uppercase為 ABCDEFGHIJKLMNOPQRSTUVWXYZ\n",
      "digits為 0123456789\n",
      "hexdigits為 0123456789abcdefABCDEF\n",
      "octdigits為 01234567\n",
      "punctuation為 !\"#$%&'()*+,-./:;<=>?@[\\]^_`{|}~\n",
      "printable.encode('ascii')為 b'0123456789abcdefghijklmnopqrstuvwxyzABCDEFGHIJKLMNOPQRSTUVWXYZ!\"#$%&\\'()*+,-./:;<=>?@[\\\\]^_`{|}~ \\t\\n\\r\\x0b\\x0c'\n",
      "whitespace.encode('ascii')為 b' \\t\\n\\r\\x0b\\x0c'\n"
     ]
    }
   ],
   "source": [
    "import string\n",
    "print('ascii_letters為', string.ascii_letters)\n",
    "print('ascii_lowercase為', string.ascii_lowercase)\n",
    "print('ascii_uppercase為', string.ascii_uppercase)\n",
    "print('digits為', string.digits)\n",
    "print('hexdigits為', string.hexdigits)\n",
    "print('octdigits為', string.octdigits)\n",
    "print('punctuation為', string.punctuation)\n",
    "print(\"printable.encode('ascii')為\", string.printable.encode('ascii'))\n",
    "print(\"whitespace.encode('ascii')為\", string.whitespace.encode('ascii'))"
   ]
  },
  {
   "cell_type": "markdown",
   "id": "39499d3c",
   "metadata": {},
   "source": [
    "### (9-1-2-密碼隨機產生器.py)  9-1-2　密碼隨機產生器"
   ]
  },
  {
   "cell_type": "code",
   "execution_count": 7,
   "id": "8d4680f1",
   "metadata": {},
   "outputs": [
    {
     "name": "stdout",
     "output_type": "stream",
     "text": [
      "YO3z48AIX\n"
     ]
    }
   ],
   "source": [
    "import string\n",
    "import random\n",
    "chs = string.ascii_letters + string.digits\n",
    "pwd=\"\"\n",
    "for x in range(random.randint(8,12)):\n",
    "    pwd+=random.choice(chs)\n",
    "print(pwd)"
   ]
  },
  {
   "cell_type": "markdown",
   "id": "f1e92a34",
   "metadata": {},
   "source": [
    "## 9-2　Unicode 編碼\n",
    "### (9-2-1-Unicode字元.py)  9-2-1　Unicode 字元的表示"
   ]
  },
  {
   "cell_type": "code",
   "execution_count": 8,
   "id": "56a3b676",
   "metadata": {},
   "outputs": [
    {
     "name": "stdout",
     "output_type": "stream",
     "text": [
      "value= 我 name= CJK UNIFIED IDEOGRAPH-6211\n",
      "name= CJK UNIFIED IDEOGRAPH-6211 value= 我\n",
      "value= 我 name= CJK UNIFIED IDEOGRAPH-6211\n",
      "name= CJK UNIFIED IDEOGRAPH-6211 value= 我\n",
      "value= 我 name= CJK UNIFIED IDEOGRAPH-6211\n",
      "name= CJK UNIFIED IDEOGRAPH-6211 value= 我\n",
      "value= 我 name= CJK UNIFIED IDEOGRAPH-6211\n",
      "name= CJK UNIFIED IDEOGRAPH-6211 value= 我\n"
     ]
    }
   ],
   "source": [
    "import unicodedata\n",
    "def unicode_name(value):\n",
    "    name = unicodedata.name(value)\n",
    "    print('value=', value, 'name=', name)\n",
    "    return name\n",
    "def unicode_lookup(name):\n",
    "    value = unicodedata.lookup(name)\n",
    "    print('name=', name, 'value=', value)\n",
    "    return value\n",
    "name = unicode_name('我')\n",
    "value = unicode_lookup(name)\n",
    "name = unicode_name('\\u6211')\n",
    "value = unicode_lookup(name)\n",
    "name = unicode_name('\\U00006211')\n",
    "value = unicode_lookup(name)\n",
    "name = unicode_name('\\N{CJK UNIFIED IDEOGRAPH-6211}')\n",
    "value = unicode_lookup(name)"
   ]
  },
  {
   "cell_type": "markdown",
   "id": "bb5189b6",
   "metadata": {},
   "source": [
    "### (9-2-2-編碼與解碼.py)  9-2-2　編碼與解碼"
   ]
  },
  {
   "cell_type": "code",
   "execution_count": 9,
   "id": "362ae89d",
   "metadata": {},
   "outputs": [
    {
     "name": "stdout",
     "output_type": "stream",
     "text": [
      "b'\\\\u6211'\n",
      "將 我 經由utf-8編碼後為 b'\\xe6\\x88\\x91'\n",
      "將 b'\\xe6\\x88\\x91' 經由utf-8解碼後為 我\n",
      "我 的長度為 1\n",
      "b'\\xe6\\x88\\x91' 的長度為 3\n",
      "將 我 經由utf-8編碼後為 b'\\xe6\\x88\\x91'\n",
      "將 b'\\xe6\\x88\\x91' 經由utf-8解碼後為 我\n",
      "我 的長度為 1\n",
      "b'\\xe6\\x88\\x91' 的長度為 3\n"
     ]
    }
   ],
   "source": [
    "print('我'.encode('unicode-escape'))\n",
    "def utf8(data):\n",
    "    data_byte=data.encode('utf-8')\n",
    "    data2=data_byte.decode('utf-8')\n",
    "    print('將', data, '經由utf-8編碼後為', data_byte)\n",
    "    print('將', data_byte, '經由utf-8解碼後為', data2)\n",
    "    print(data, '的長度為', len(data))\n",
    "    print(data_byte, '的長度為', len(data_byte))\n",
    "utf8('我')\n",
    "utf8(\"\\u6211\")"
   ]
  },
  {
   "cell_type": "markdown",
   "id": "12b70031",
   "metadata": {},
   "source": [
    "## 9-3　正規表示式(regular expression)\n",
    "### (9-3-1-match-search.py)  9-3-1　模組re"
   ]
  },
  {
   "cell_type": "code",
   "execution_count": 10,
   "id": "912273eb",
   "metadata": {},
   "outputs": [
    {
     "name": "stdout",
     "output_type": "stream",
     "text": [
      "昔人已乘黃鶴去，此地空余黃鶴樓。黃鶴一去不復返，白雲千載空悠悠。\n",
      "昔人\n",
      "找不到開頭是「黃鶴」\n",
      "昔人已乘黃鶴去，此地空余黃鶴樓。黃鶴\n",
      "黃鶴\n",
      "['黃鶴', '黃鶴', '黃鶴']\n",
      "['昔人已乘黃鶴去', '此地空余黃鶴樓。黃鶴一去不復返', '白雲千載空悠悠。']\n",
      "昔人已乘黃鶴去，此地空余黃鶴樓；黃鶴一去不復返，白雲千載空悠悠；\n"
     ]
    }
   ],
   "source": [
    "import re\n",
    "s='昔人已乘黃鶴去，此地空余黃鶴樓。\\\n",
    "黃鶴一去不復返，白雲千載空悠悠。'\n",
    "print(s)\n",
    "ans = re.match('昔人',s)\n",
    "if ans:\n",
    "    print(ans.group())\n",
    "else:\n",
    "    print(\"找不到開頭是「昔人」\")\n",
    "ans = re.match('黃鶴',s)\n",
    "if ans:\n",
    "    print(ans.group())\n",
    "else:\n",
    "    print(\"找不到開頭是「黃鶴」\")\n",
    "ans = re.match('.*黃鶴',s)\n",
    "if ans:\n",
    "    print(ans.group())\n",
    "else:\n",
    "    print(\"找不到開頭是「.*黃鶴」\")\n",
    "ans = re.search('黃鶴',s)\n",
    "if ans:\n",
    "    print(ans.group())\n",
    "else:\n",
    "    print(\"找不到「黃鶴」\")\n",
    "ans = re.findall('黃鶴',s)\n",
    "if ans:\n",
    "    print(ans)\n",
    "else:\n",
    "    print(\"找不到「黃鶴」\")\n",
    "ans = re.split('，',s)\n",
    "print(ans)\n",
    "ans = re.sub('。','；',s)\n",
    "print(ans)"
   ]
  },
  {
   "cell_type": "markdown",
   "id": "740660df",
   "metadata": {},
   "source": [
    "### 9-3-2　正規表示式的關鍵字\n",
    "### (9-3-2a-正規表示式的關鍵字.py)"
   ]
  },
  {
   "cell_type": "code",
   "execution_count": 11,
   "id": "dc3abc58",
   "metadata": {},
   "outputs": [
    {
     "name": "stdout",
     "output_type": "stream",
     "text": [
      "['0', '1', '2', '3', '4', '5', '6', '7', '8', '9']\n",
      "['a', 'b', 'c', 'd', 'e', 'f', 'g', 'h', 'i', 'j', 'k', 'l', 'm', 'n', 'o', 'p', 'q', 'r', 's', 't', 'u', 'v', 'w', 'x', 'y', 'z', 'A', 'B', 'C', 'D', 'E', 'F', 'G', 'H', 'I', 'J', 'K', 'L', 'M', 'N', 'O', 'P', 'Q', 'R', 'S', 'T', 'U', 'V', 'W', 'X', 'Y', 'Z', '!', '\"', '#', '$', '%', '&', \"'\", '(', ')', '*', '+', ',', '-', '.', '/', ':', ';', '<', '=', '>', '?', '@', '[', '\\\\', ']', '^', '_', '`', '{', '|', '}', '~', ' ', '\\t', '\\n', '\\r', '\\x0b', '\\x0c']\n",
      "[' ', '\\t', '\\n', '\\r', '\\x0b', '\\x0c']\n",
      "['0', '1', '2', '3', '4', '5', '6', '7', '8', '9', 'a', 'b', 'c', 'd', 'e', 'f', 'g', 'h', 'i', 'j', 'k', 'l', 'm', 'n', 'o', 'p', 'q', 'r', 's', 't', 'u', 'v', 'w', 'x', 'y', 'z', 'A', 'B', 'C', 'D', 'E', 'F', 'G', 'H', 'I', 'J', 'K', 'L', 'M', 'N', 'O', 'P', 'Q', 'R', 'S', 'T', 'U', 'V', 'W', 'X', 'Y', 'Z', '!', '\"', '#', '$', '%', '&', \"'\", '(', ')', '*', '+', ',', '-', '.', '/', ':', ';', '<', '=', '>', '?', '@', '[', '\\\\', ']', '^', '_', '`', '{', '|', '}', '~']\n",
      "['0', '1', '2', '3', '4', '5', '6', '7', '8', '9', 'a', 'b', 'c', 'd', 'e', 'f', 'g', 'h', 'i', 'j', 'k', 'l', 'm', 'n', 'o', 'p', 'q', 'r', 's', 't', 'u', 'v', 'w', 'x', 'y', 'z', 'A', 'B', 'C', 'D', 'E', 'F', 'G', 'H', 'I', 'J', 'K', 'L', 'M', 'N', 'O', 'P', 'Q', 'R', 'S', 'T', 'U', 'V', 'W', 'X', 'Y', 'Z', '_']\n",
      "['!', '\"', '#', '$', '%', '&', \"'\", '(', ')', '*', '+', ',', '-', '.', '/', ':', ';', '<', '=', '>', '?', '@', '[', '\\\\', ']', '^', '`', '{', '|', '}', '~', ' ', '\\t', '\\n', '\\r', '\\x0b', '\\x0c']\n",
      "['', '']\n",
      "['', '', '']\n"
     ]
    }
   ],
   "source": [
    "import string\n",
    "import re\n",
    "pr=string.printable\n",
    "print(re.findall('\\d',pr))\n",
    "print(re.findall('\\D',pr))\n",
    "print(re.findall('\\s',pr))\n",
    "print(re.findall('\\S',pr))\n",
    "print(re.findall('\\w',pr))\n",
    "print(re.findall('\\W',pr))\n",
    "print(re.findall(r'\\b','abcd'))\n",
    "print(re.findall('\\B','abcd'))"
   ]
  },
  {
   "cell_type": "markdown",
   "id": "471779b1",
   "metadata": {},
   "source": [
    "### (9-3-2b-正規表示式的關鍵字.py)"
   ]
  },
  {
   "cell_type": "code",
   "execution_count": 12,
   "id": "eaaecad5",
   "metadata": {},
   "outputs": [
    {
     "name": "stdout",
     "output_type": "stream",
     "text": [
      "昔人已乘黃鶴去，此地空余黃鶴樓。黃鶴一去不復返，白雲千載空悠悠。\n",
      "['昔人']\n",
      "['空悠悠。']\n",
      "['黃', '黃', '黃', '白']\n",
      "['，', '。', '，', '。']\n",
      "['黃鶴樓。']\n",
      "['黃鶴去，', '黃鶴樓。']\n",
      "['昔', '人', '已', '乘', '去', '，', '此', '地', '空', '余', '樓', '。', '一', '去', '不', '復', '返', '，', '白', '雲', '千', '載', '空', '悠', '悠', '。']\n"
     ]
    }
   ],
   "source": [
    "import re\n",
    "s='昔人已乘黃鶴去，此地空余黃鶴樓。\\\n",
    "黃鶴一去不復返，白雲千載空悠悠。'\n",
    "print(s)\n",
    "ans = re.findall('^昔人',s)\n",
    "print(ans)\n",
    "ans = re.findall('空悠悠。$',s)\n",
    "print(ans)\n",
    "ans = re.findall('[黃白]',s)\n",
    "print(ans)\n",
    "ans = re.findall('\\W',s)\n",
    "print(ans)\n",
    "ans = re.findall('黃鶴樓\\W',s)\n",
    "print(ans)\n",
    "ans = re.findall('黃鶴.\\W',s)\n",
    "print(ans)\n",
    "ans = re.findall('[^黃鶴]',s)\n",
    "print(ans)"
   ]
  },
  {
   "cell_type": "markdown",
   "id": "d03ed2cc",
   "metadata": {},
   "source": [
    "### (9-3-2c-正規表示式的關鍵字.py)"
   ]
  },
  {
   "cell_type": "code",
   "execution_count": 13,
   "id": "bb58b8f2",
   "metadata": {},
   "outputs": [
    {
     "name": "stdout",
     "output_type": "stream",
     "text": [
      "昔人已乘黃鶴去，此地空余黃鶴樓。黃鶴一去不復返，白雲千載空悠悠。\n",
      "[一去]? ['', '', '', '', '', '', '去', '', '', '', '', '', '', '', '', '', '', '', '一', '去', '', '', '', '', '', '', '', '', '', '', '', '', '']\n",
      "[一去]* ['', '', '', '', '', '', '去', '', '', '', '', '', '', '', '', '', '', '', '一去', '', '', '', '', '', '', '', '', '', '', '', '', '']\n",
      "[一去]*? ['', '', '', '', '', '', '', '去', '', '', '', '', '', '', '', '', '', '', '', '', '一', '', '去', '', '', '', '', '', '', '', '', '', '', '', '', '']\n",
      "[黃鶴樓]+ ['黃鶴', '黃鶴樓', '黃鶴']\n",
      "[黃鶴樓]+? ['黃', '鶴', '黃', '鶴', '樓', '黃', '鶴']\n",
      "[黃鶴樓]{2} ['黃鶴', '黃鶴', '黃鶴']\n",
      "[黃鶴樓]{1,2} ['黃鶴', '黃鶴', '樓', '黃鶴']\n",
      "[黃鶴樓]{1,2}? ['黃', '鶴', '黃', '鶴', '樓', '黃', '鶴']\n",
      "黃鶴(?=樓) ['黃鶴']\n",
      "黃鶴(?!樓) ['黃鶴', '黃鶴']\n",
      "(?<=黃鶴)樓 ['樓']\n",
      "(?<!黃鶴)樓 []\n"
     ]
    }
   ],
   "source": [
    "import re\n",
    "s='昔人已乘黃鶴去，此地空余黃鶴樓。\\\n",
    "黃鶴一去不復返，白雲千載空悠悠。'\n",
    "print(s)\n",
    "ans = re.findall('[一去]?', s)\n",
    "print('[一去]?', ans)\n",
    "ans = re.findall('[一去]*', s)\n",
    "print('[一去]*', ans)\n",
    "ans = re.findall('[一去]*?', s)\n",
    "print('[一去]*?', ans)\n",
    "ans = re.findall('[黃鶴樓]+',s)\n",
    "print('[黃鶴樓]+', ans)\n",
    "ans = re.findall('[黃鶴樓]+?',s)\n",
    "print('[黃鶴樓]+?', ans)\n",
    "ans = re.findall('[黃鶴樓]{2}',s)\n",
    "print('[黃鶴樓]{2}', ans)\n",
    "ans = re.findall('[黃鶴樓]{1,2}',s)\n",
    "print('[黃鶴樓]{1,2}', ans)\n",
    "ans = re.findall('[黃鶴樓]{1,2}?',s)\n",
    "print('[黃鶴樓]{1,2}?', ans)\n",
    "ans = re.findall('黃鶴(?=樓)',s)\n",
    "print('黃鶴(?=樓)', ans)\n",
    "ans = re.findall('黃鶴(?!樓)',s)\n",
    "print('黃鶴(?!樓)', ans)\n",
    "ans = re.findall('(?<=黃鶴)樓',s)\n",
    "print('(?<=黃鶴)樓', ans)\n",
    "ans = re.findall('(?<!黃鶴)樓',s)\n",
    "print('(?<!黃鶴)樓', ans)"
   ]
  }
 ],
 "metadata": {
  "kernelspec": {
   "display_name": "Python 3 (ipykernel)",
   "language": "python",
   "name": "python3"
  },
  "language_info": {
   "codemirror_mode": {
    "name": "ipython",
    "version": 3
   },
   "file_extension": ".py",
   "mimetype": "text/x-python",
   "name": "python",
   "nbconvert_exporter": "python",
   "pygments_lexer": "ipython3",
   "version": "3.9.7"
  }
 },
 "nbformat": 4,
 "nbformat_minor": 5
}
