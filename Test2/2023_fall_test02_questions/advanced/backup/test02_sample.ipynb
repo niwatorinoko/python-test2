
{
 "cells": [
  {
   "cell_type": "markdown",
   "id": "2a9a46e3",
   "metadata": {},
   "source": [
    "# 2資料型別、變數與運算子"
   ]
  },
  {
   "cell_type": "markdown",
   "id": "5c31f0b6",
   "metadata": {},
   "source": [
    "## 2-1 Python 資料型別"
   ]
  },
  {
   "cell_type": "markdown",
   "id": "99a2b0ee",
   "metadata": {},
   "source": [
    "### (2-1-bool1.py)布林值"
   ]
  },
  {
   "cell_type": "code",
   "execution_count": 1,
   "id": "8570f688",
   "metadata": {},
   "outputs": [
    {
     "name": "stdout",
     "output_type": "stream",
     "text": [
      "True\n",
      "False\n",
      "False\n"
     ]
    }
   ],
   "source": [
    "print(bool(1))\n",
    "print(bool(0))\n",
    "print(bool(()))"
   ]
  },
  {
   "cell_type": "markdown",
   "id": "db1084cc",
   "metadata": {},
   "source": [
    "### (2-1-int1.py)整數"
   ]
  },
  {
   "cell_type": "code",
   "execution_count": 5,
   "id": "f4521da3",
   "metadata": {},
   "outputs": [
    {
     "name": "stdout",
     "output_type": "stream",
     "text": [
      "100\n",
      "3\n",
      "4\n"
     ]
    }
   ],
   "source": [
    "print(int(100))\n",
    "print(int(3.14))\n",
    "print(int('100',2))"
   ]
  },
  {
   "cell_type": "markdown",
   "id": "8da98ec3",
   "metadata": {},
   "source": [
    "### (2-1-float1.py)浮點數"
   ]
  },
  {
   "cell_type": "code",
   "execution_count": 6,
   "id": "32e8bb62",
   "metadata": {},
   "outputs": [
    {
     "name": "stdout",
     "output_type": "stream",
     "text": [
      "1.0\n",
      "3.14\n",
      "3.1415\n"
     ]
    }
   ],
   "source": [
    "print(float(1))\n",
    "print(float(3.14))\n",
    "print(float('3.1415'))"
   ]
  },
  {
   "cell_type": "markdown",
   "id": "781c7005",
   "metadata": {},
   "source": [
    "### (2-1-str1.py)字串"
   ]
  },
  {
   "cell_type": "code",
   "execution_count": 7,
   "id": "ec31a9f6",
   "metadata": {},
   "outputs": [
    {
     "ename": "TypeError",
     "evalue": "'str' object does not support item assignment",
     "output_type": "error",
     "traceback": [
      "\u001b[1;31m---------------------------------------------------------------------------\u001b[0m",
      "\u001b[1;31mTypeError\u001b[0m                                 Traceback (most recent call last)",
      "\u001b[1;32m~\\AppData\\Local\\Temp/ipykernel_15092/3670776073.py\u001b[0m in \u001b[0;36m<module>\u001b[1;34m\u001b[0m\n\u001b[0;32m      1\u001b[0m \u001b[0ms\u001b[0m\u001b[1;33m=\u001b[0m \u001b[0mstr\u001b[0m\u001b[1;33m(\u001b[0m\u001b[1;34m'Python'\u001b[0m\u001b[1;33m)\u001b[0m\u001b[1;33m\u001b[0m\u001b[1;33m\u001b[0m\u001b[0m\n\u001b[1;32m----> 2\u001b[1;33m \u001b[0ms\u001b[0m\u001b[1;33m[\u001b[0m\u001b[1;36m0\u001b[0m\u001b[1;33m]\u001b[0m\u001b[1;33m=\u001b[0m\u001b[1;34m'Q'\u001b[0m  \u001b[1;31m#字串不可更改，會出現錯誤\u001b[0m\u001b[1;33m\u001b[0m\u001b[1;33m\u001b[0m\u001b[0m\n\u001b[0m",
      "\u001b[1;31mTypeError\u001b[0m: 'str' object does not support item assignment"
     ]
    }
   ],
   "source": [
    "s= str('Python')\n",
    "s[0]='Q'  #字串不可更改，會出現錯誤"
   ]
  },
  {
   "cell_type": "markdown",
   "id": "3b409ad8",
   "metadata": {},
   "source": [
    "### (2-1-type.py)使用type顯示資料型別"
   ]
  },
  {
   "cell_type": "code",
   "execution_count": null,
   "id": "339e241f",
   "metadata": {},
   "outputs": [],
   "source": [
    "b = True\n",
    "print(b, type(b))\n",
    "num = 20\n",
    "print(num, type(num))\n",
    "pi = 3.14\n",
    "print(pi, type(pi))\n",
    "s = \"Hello\"\n",
    "print(s, type(s))"
   ]
  },
  {
   "cell_type": "markdown",
   "id": "12b58d77",
   "metadata": {},
   "source": [
    "## 2-2 變數"
   ]
  },
  {
   "cell_type": "markdown",
   "id": "707e433f",
   "metadata": {},
   "source": [
    "### (2-2-1a-var1.py)印出變數 a 之前，變數 a 並未參考到任何物件，出現 NameError 表示變數 a 未定義"
   ]
  },
  {
   "cell_type": "code",
   "execution_count": 2,
   "id": "e609dd11",
   "metadata": {
    "scrolled": false
   },
   "outputs": [
    {
     "ename": "NameError",
     "evalue": "name 'a' is not defined",
     "output_type": "error",
     "traceback": [
      "\u001b[1;31m---------------------------------------------------------------------------\u001b[0m",
      "\u001b[1;31mNameError\u001b[0m                                 Traceback (most recent call last)",
      "\u001b[1;32m~\\AppData\\Local\\Temp/ipykernel_198696/1189138062.py\u001b[0m in \u001b[0;36m<module>\u001b[1;34m\u001b[0m\n\u001b[1;32m----> 1\u001b[1;33m \u001b[0mprint\u001b[0m\u001b[1;33m(\u001b[0m\u001b[0ma\u001b[0m\u001b[1;33m)\u001b[0m\u001b[1;33m\u001b[0m\u001b[1;33m\u001b[0m\u001b[0m\n\u001b[0m",
      "\u001b[1;31mNameError\u001b[0m: name 'a' is not defined"
     ]
    }
   ],
   "source": [
    "print(a)"
   ]
  },
  {
   "cell_type": "markdown",
   "id": "745813f8",
   "metadata": {},
   "source": [
    "### (2-2-1b-var2.py)變數 a 經由「=」參考到不同的物件"
   ]
  },
  {
   "cell_type": "code",
   "execution_count": null,
   "id": "aec5f9aa",
   "metadata": {},
   "outputs": [],
   "source": [
    "a=1\n",
    "print(a,id(a))\n",
    "a='Python'\n",
    "print(a,id(a))"
   ]
  },
  {
   "cell_type": "markdown",
   "id": "7307fb85",
   "metadata": {},
   "source": [
    "### (2-2-1c-var3.py)變數 y 經由「=」參考到變數 x 所參考的物件，變數 x 與變數 y 參考到相同物件"
   ]
  },
  {
   "cell_type": "code",
   "execution_count": null,
   "id": "b7e1ceba",
   "metadata": {},
   "outputs": [],
   "source": [
    "x = 1\n",
    "y = x\n",
    "print(id(x), id(y))\n",
    "print(x, y)"
   ]
  },
  {
   "cell_type": "markdown",
   "id": "890608e9",
   "metadata": {},
   "source": [
    "## 2-3 運算子"
   ]
  },
  {
   "cell_type": "markdown",
   "id": "f7aac88e",
   "metadata": {},
   "source": [
    "### (2-3-5-is.py)in 與 is 運算子"
   ]
  },
  {
   "cell_type": "code",
   "execution_count": 8,
   "id": "c0506052",
   "metadata": {},
   "outputs": [
    {
     "name": "stdout",
     "output_type": "stream",
     "text": [
      "2610166681408 2610166863616\n",
      "False\n",
      "True\n"
     ]
    }
   ],
   "source": [
    "x = [1,2,3]\n",
    "y = [1,2,3]\n",
    "print(id(x),id(y))\n",
    "print(x is y)\n",
    "print(x == y)"
   ]
  },
  {
   "cell_type": "markdown",
   "id": "c996ef1c",
   "metadata": {},
   "source": [
    "## 2-4字串"
   ]
  },
  {
   "cell_type": "markdown",
   "id": "8cf99340",
   "metadata": {},
   "source": [
    "### (2-4-string1.py) 使用單引號「'」與雙引號「\"」所包夾的文字，在 Python 會被視為字串"
   ]
  },
  {
   "cell_type": "code",
   "execution_count": null,
   "id": "ef0ee506",
   "metadata": {},
   "outputs": [],
   "source": [
    "s1 = '春眠不覺曉，處處聞啼鳥。'\n",
    "print(s1)\n",
    "s2 = \"夜來風雨聲，花落知多少。\"\n",
    "print(s2)\n",
    "s3 = '作者\"孟浩然\" 詩名\"春曉\"'\n",
    "print(s3)\n",
    "s4 = \"作者'孟浩然' 詩名'春曉'\"\n",
    "print(s4)\n",
    "s5 = '''    春眠不覺曉，處處聞啼鳥。\n",
    "    夜來風雨聲，花落知多少。\n",
    "    作者\"孟浩然\" 詩名\"春曉\"\n",
    "'''\n",
    "print(s5)"
   ]
  },
  {
   "cell_type": "markdown",
   "id": "ffd1c8a0",
   "metadata": {},
   "source": [
    "### 2-4-1　字串運算子"
   ]
  },
  {
   "cell_type": "markdown",
   "id": "f5edd1c3",
   "metadata": {},
   "source": [
    "### (2-4-1-string2.py) "
   ]
  },
  {
   "cell_type": "code",
   "execution_count": 9,
   "id": "e91982ac",
   "metadata": {},
   "outputs": [
    {
     "name": "stdout",
     "output_type": "stream",
     "text": [
      "0123456789\n",
      "0123401234\n",
      "s= 0123456789 s[0]= 0\n",
      "s= 0123456789 s[1]= 1\n",
      "s= 0123456789 s[-1]= 9\n",
      "s= 0123456789 s[-2]= 8\n",
      "s= 0123456789 s[:]= 0123456789\n",
      "s= 0123456789 s[5:]= 56789\n",
      "s= 0123456789 s[-2:]= 89\n",
      "s= 0123456789 s[:5]= 01234\n",
      "s= 0123456789 s[:-2]= 01234567\n",
      "s= 0123456789 s[7:9]= 78\n",
      "s= 0123456789 s[-4:-1]= 678\n",
      "s= 0123456789 s[5:-2]= 567\n",
      "s= 0123456789 s[2:10:2]= 2468\n",
      "s= 0123456789 s[::-1]= 9876543210\n",
      "s= 0123456789 s[-1::-1]= 9876543210\n",
      "春眠不覺曉，處處聞啼鳥。\n",
      "夜來風雨聲，花落知多少。\n",
      "\t作者\"孟浩然\" 詩名\"春曉\"\n"
     ]
    }
   ],
   "source": [
    "s1 = '01234'\n",
    "s2 = '56789'\n",
    "s3 = s1 + s2\n",
    "print(s3)\n",
    "s1 = '01234'\n",
    "s2 = s1 * 2\n",
    "print(s2)\n",
    "s = '0123456789'\n",
    "print('s=', s, 's[0]=', s[0])\n",
    "print('s=', s, 's[1]=', s[1])\n",
    "print('s=', s, 's[-1]=', s[-1])\n",
    "print('s=', s, 's[-2]=', s[-2])\n",
    "print('s=', s, 's[:]=', s[:])\n",
    "print('s=', s, 's[5:]=', s[5:])\n",
    "print('s=', s, 's[-2:]=', s[-2:])\n",
    "print('s=', s, 's[:5]=', s[:5])\n",
    "print('s=', s, 's[:-2]=', s[:-2])\n",
    "print('s=', s, 's[7:9]=', s[7:9])\n",
    "print('s=', s, 's[-4:-1]=', s[-4:-1])\n",
    "print('s=', s, 's[5:-2]=', s[5:-2])\n",
    "print('s=', s, 's[2:10:2]=', s[2:10:2])\n",
    "print('s=', s, 's[::-1]=', s[::-1])\n",
    "print('s=', s, 's[-1::-1]=', s[-1::-1])\n",
    "s = '春眠不覺曉，處處聞啼鳥。\\n\\\n",
    "夜來風雨聲，花落知多少。\\n\\\n",
    "\\t作者\"孟浩然\" 詩名\"春曉\"'\n",
    "print(s)"
   ]
  },
  {
   "cell_type": "markdown",
   "id": "232eb229",
   "metadata": {},
   "source": [
    "### 2-4-2　字串的內建函式"
   ]
  },
  {
   "cell_type": "markdown",
   "id": "98924a7d",
   "metadata": {},
   "source": [
    "### (2-4-2-string3.py)"
   ]
  },
  {
   "cell_type": "code",
   "execution_count": 10,
   "id": "8fd4769f",
   "metadata": {},
   "outputs": [
    {
     "name": "stdout",
     "output_type": "stream",
     "text": [
      "['春眠不覺曉', '處處聞啼鳥', '夜來風雨聲', '花落知多少。']\n",
      "春眠不覺曉，處處聞啼鳥，夜來風雨聲，花落知多少。\n",
      "冬眠不覺曉，處處聞啼鳥，夜來風雨聲，花落知多少。\n",
      "s1為 春眠不覺曉，處處聞啼鳥，夜來風雨聲，花落知多少。 在s1的 18 位置發現\"花落\"\n",
      "s1為 春眠不覺曉，處處聞啼鳥，夜來風雨聲，花落知多少。 在s1中從右邊數過來第一個出現\"處\"的位置為 7\n",
      "True\n",
      "True\n",
      "s1= 春眠不覺曉，處處聞啼鳥，夜來風雨聲，花落知多少。 s1.count('處')等於 2\n",
      "  春眠不覺曉   \n",
      "     春眠不覺曉\n",
      "春眠不覺曉     \n",
      "An apple a day.\n",
      "An Apple A Day.\n",
      "aN APPLE A DAY.\n",
      "AN APPLE A DAY.\n",
      "an apple a day.\n",
      "00123\n",
      "Hello,Mary.\n",
      "ello,Mary.  \n",
      " Hello,Mary\n"
     ]
    }
   ],
   "source": [
    "s1='春眠不覺曉，處處聞啼鳥，夜來風雨聲，花落知多少。'\n",
    "list1=s1.split('，')\n",
    "print(list1)\n",
    "s2='，'.join(list1)\n",
    "print(s2)\n",
    "s3=s1.replace('春','冬')\n",
    "print(s3)\n",
    "print(\"s1為\", s1, '在s1的', s1.find('花落'), '位置發現\"花落\"')\n",
    "print(\"s1為\", s1, '在s1中從右邊數過來第一個出現\"處\"的位置為', s1.rfind('處'))\n",
    "print(s1.startswith('春眠'))\n",
    "print(s1.endswith('多少。'))\n",
    "print('s1=', s1,\"s1.count('處')等於\", s1.count('處'))\n",
    "s1='春眠不覺曉'\n",
    "print(s1.center(10))\n",
    "print(s1.rjust(10))\n",
    "print(s1.ljust(10))\n",
    "s1='An apple a day.'\n",
    "print(s1.capitalize())\n",
    "print(s1.title())\n",
    "print(s1.swapcase())\n",
    "print(s1.upper())\n",
    "print(s1.lower())\n",
    "s1='123'\n",
    "print(s1.zfill(5))\n",
    "s1=' Hello,Mary.  '\n",
    "print(s1.strip())\n",
    "print(s1.lstrip(' H'))\n",
    "print(s1.rstrip(' .'))"
   ]
  },
  {
   "cell_type": "markdown",
   "id": "5755f57c",
   "metadata": {},
   "source": [
    "## 2-5 範例練習"
   ]
  },
  {
   "cell_type": "markdown",
   "id": "d6bc43bf",
   "metadata": {},
   "source": [
    "### (2-5-1-服裝訂購系統.py)"
   ]
  },
  {
   "cell_type": "code",
   "execution_count": 11,
   "id": "8c5d2c2c",
   "metadata": {},
   "outputs": [
    {
     "name": "stdout",
     "output_type": "stream",
     "text": [
      "請輸入上衣數量？2\n",
      "請輸入褲子數量？3\n",
      "請輸入背心數量？1\n",
      "訂購服裝的總金額為 2050\n"
     ]
    }
   ],
   "source": [
    "上衣 = int(input('請輸入上衣數量？'))\n",
    "褲子 = int(input('請輸入褲子數量？'))\n",
    "背心 = int(input('請輸入背心數量？'))\n",
    "總金額 = 上衣*300 + 褲子*350 + 背心*400\n",
    "print('訂購服裝的總金額為', 總金額)"
   ]
  },
  {
   "cell_type": "markdown",
   "id": "73ca4266",
   "metadata": {},
   "source": [
    "### (2-5-2-計算圓面積與圓周長.py)"
   ]
  },
  {
   "cell_type": "code",
   "execution_count": 12,
   "id": "f0357510",
   "metadata": {},
   "outputs": [
    {
     "name": "stdout",
     "output_type": "stream",
     "text": [
      "請輸入半徑？10\n",
      "圓周長為 62.8318 圓面積為 314.159\n"
     ]
    }
   ],
   "source": [
    "半徑 = float(input('請輸入半徑？'))\n",
    "PI = 3.14159\n",
    "圓周長 = 2 * PI * 半徑\n",
    "圓面積 = 半徑 * 半徑 * PI\n",
    "print('圓周長為', 圓周長, '圓面積為', 圓面積)"
   ]
  },
  {
   "cell_type": "markdown",
   "id": "db668b23",
   "metadata": {},
   "source": [
    "### (2-5-3-攝氏轉華氏.py)"
   ]
  },
  {
   "cell_type": "code",
   "execution_count": 13,
   "id": "89efc852",
   "metadata": {},
   "outputs": [
    {
     "name": "stdout",
     "output_type": "stream",
     "text": [
      "請輸入攝氏溫度？50\n",
      "華氏溫度為 122.0\n"
     ]
    }
   ],
   "source": [
    "c = float(input('請輸入攝氏溫度？'))\n",
    "f = c * 9 / 5 +32\n",
    "print('華氏溫度為', f)"
   ]
  },
  {
   "cell_type": "markdown",
   "id": "d0d9a22b",
   "metadata": {},
   "source": [
    "### (2-5-4-複利計算.py)"
   ]
  },
  {
   "cell_type": "code",
   "execution_count": 14,
   "id": "dd326a15",
   "metadata": {},
   "outputs": [
    {
     "name": "stdout",
     "output_type": "stream",
     "text": [
      "請輸入本金？10000\n",
      "請輸入年利率(%)？1.5\n",
      "第一年本利和為 10149.999999999998\n",
      "第二年本利和為 10302.249999999996\n",
      "第三年本利和為 10456.783749999997\n"
     ]
    }
   ],
   "source": [
    "money = int(input('請輸入本金？'))\n",
    "interest = float(input('請輸入年利率(%)？'))\n",
    "y1 = money * (1 + interest/100)\n",
    "y2 = money * ((1 + interest/100) ** 2)\n",
    "y3 = money * ((1 + interest/100) ** 3)\n",
    "print('第一年本利和為', y1)\n",
    "print('第二年本利和為', y2)\n",
    "print('第三年本利和為', y3)"
   ]
  },
  {
   "cell_type": "markdown",
   "id": "9ba1c597",
   "metadata": {},
   "source": [
    "### (2-5-5-迴文.py)"
   ]
  },
  {
   "cell_type": "code",
   "execution_count": 15,
   "id": "ebbc0a76",
   "metadata": {},
   "outputs": [
    {
     "name": "stdout",
     "output_type": "stream",
     "text": [
      "請輸入一個字串？abvba\n",
      "迴文判斷結果為 True\n"
     ]
    }
   ],
   "source": [
    "s = input('請輸入一個字串？')\n",
    "print('迴文判斷結果為', s == s[::-1])"
   ]
  },
  {
   "cell_type": "markdown",
   "id": "db16d667",
   "metadata": {},
   "source": [
    "What operations Python supports?"
   ]
  },
  {
   "cell_type": "markdown",
   "id": "c9ec5b84",
   "metadata": {},
   "source": [
    "\n",
    "\n",
    "Here is a table that summarizes the different types of operators in Python:\n",
    "\n",
    "| Operator type | Operators | Description |\n",
    "|---|---|---|\n",
    "| Arithmetic operators | `+`, `-`, `*`, `/`, `%`, `**`, `//` | Perform basic arithmetic operations |\n",
    "| Comparison operators | `<`, `<=`, `>`, `>=`, `==`, `!=` | Compare two values |\n",
    "| Logical operators | `and`, `or`, `not` | Combine logical expressions |\n",
    "| Assignment operators | `=`, `+=`, `-=`, `*=`, `/=`, `%=`, `**=`, `//=` | Assign values to variables |\n",
    "| Membership operators | `in`, `not in` | Check if a value is a member of a sequence |\n",
    "| Identity operators | `is`, `is not` | Check if two variables refer to the same object |\n",
    "| Bitwise operators | `&`, `|`, `^`, `~`, `<<`, `>>` | Perform bitwise operations on integers |\n",
    "| Augmented assignment operators | `+=`, `-=`, `*=`, `/=`, `%=`, `**=`, `//=` | Combine assignment and arithmetic operations |\n",
    "\n",
    "I hope this helps! Let me know if you have any other questions."
   ]
  },
  {
   "cell_type": "markdown",
   "id": "ebd23f5d",
   "metadata": {},
   "source": [
    "**Arithmetic operations**"
   ]
  },
  {
   "cell_type": "code",
   "execution_count": 3,
   "id": "9d9ee412",
   "metadata": {},
   "outputs": [
    {
     "name": "stdout",
     "output_type": "stream",
     "text": [
      "5\n",
      "-1\n",
      "6\n",
      "0.6666666666666666\n",
      "2\n",
      "8\n",
      "0\n"
     ]
    }
   ],
   "source": [
    "\n",
    "# Addition\n",
    "a = 2\n",
    "b = 3\n",
    "print(a + b)  # 5\n",
    "\n",
    "# Subtraction\n",
    "print(a - b)  # -1\n",
    "\n",
    "# Multiplication\n",
    "print(a * b)  # 6\n",
    "\n",
    "# Division\n",
    "print(a / b)  # 0.666\n",
    "\n",
    "# Modulus\n",
    "print(a % b)  # 2\n",
    "\n",
    "# Exponentiation\n",
    "print(a ** b)  # 8\n",
    "\n",
    "# Floor division\n",
    "print(a // b)  # 0"
   ]
  },
  {
   "cell_type": "markdown",
   "id": "59afbff7",
   "metadata": {},
   "source": [
    "**Comparison operators**"
   ]
  },
  {
   "cell_type": "code",
   "execution_count": 4,
   "id": "9fa06261",
   "metadata": {},
   "outputs": [
    {
     "name": "stdout",
     "output_type": "stream",
     "text": [
      "True\n",
      "True\n",
      "False\n",
      "False\n",
      "False\n",
      "True\n"
     ]
    }
   ],
   "source": [
    "a = 1\n",
    "b = 2\n",
    "\n",
    "print(a < b)  # True\n",
    "print(a <= b)  # True\n",
    "print(a > b)  # False\n",
    "print(a >= b)  # False\n",
    "print(a == b)  # False\n",
    "print(a != b)  # True"
   ]
  },
  {
   "cell_type": "markdown",
   "id": "2c1463a1",
   "metadata": {},
   "source": [
    "**Logical operators**"
   ]
  },
  {
   "cell_type": "code",
   "execution_count": 5,
   "id": "2b2f5ce7",
   "metadata": {},
   "outputs": [
    {
     "name": "stdout",
     "output_type": "stream",
     "text": [
      "False\n",
      "True\n",
      "False\n"
     ]
    }
   ],
   "source": [
    "a = 1\n",
    "b = 2\n",
    "c = 3\n",
    "d = 4\n",
    "\n",
    "print(a < b and c > d)  # False\n",
    "print(a < b or c > d)  # True\n",
    "print(not(a < b))  # False"
   ]
  },
  {
   "cell_type": "markdown",
   "id": "19b846e7",
   "metadata": {},
   "source": [
    "**Assignment operators**"
   ]
  },
  {
   "cell_type": "code",
   "execution_count": 6,
   "id": "9e5c5620",
   "metadata": {},
   "outputs": [
    {
     "name": "stdout",
     "output_type": "stream",
     "text": [
      "2\n",
      "3\n"
     ]
    }
   ],
   "source": [
    "a = 1\n",
    "\n",
    "# Simple assignment\n",
    "a = 2\n",
    "print(a)  # 2\n",
    "\n",
    "# Augmented assignment\n",
    "a += 1\n",
    "print(a)  # 3"
   ]
  },
  {
   "cell_type": "markdown",
   "id": "d4ad5056",
   "metadata": {},
   "source": [
    "**Membership operators**"
   ]
  },
  {
   "cell_type": "code",
   "execution_count": 7,
   "id": "a5f1b035",
   "metadata": {},
   "outputs": [
    {
     "name": "stdout",
     "output_type": "stream",
     "text": [
      "True\n",
      "False\n"
     ]
    }
   ],
   "source": [
    "a = 'hello'\n",
    "\n",
    "print('o' in a)  # True\n",
    "print('b' in a)  # False"
   ]
  },
  {
   "cell_type": "markdown",
   "id": "b40fc6e5",
   "metadata": {},
   "source": [
    "**Identity operators**"
   ]
  },
  {
   "cell_type": "code",
   "execution_count": 8,
   "id": "e833f928",
   "metadata": {},
   "outputs": [
    {
     "name": "stdout",
     "output_type": "stream",
     "text": [
      "True\n",
      "False\n"
     ]
    }
   ],
   "source": [
    "a = 1\n",
    "b = 1\n",
    "\n",
    "print(a is b)  # True\n",
    "print(a is not b)  # False"
   ]
  },
  {
   "cell_type": "markdown",
   "id": "2486ffce",
   "metadata": {},
   "source": [
    "**Bitwise operators**"
   ]
  },
  {
   "cell_type": "code",
   "execution_count": 12,
   "id": "e5190fac",
   "metadata": {},
   "outputs": [
    {
     "name": "stdout",
     "output_type": "stream",
     "text": [
      "0\n",
      "3\n",
      "3\n",
      "-2\n",
      "4\n",
      "0\n"
     ]
    }
   ],
   "source": [
    "a = 1\n",
    "b = 2\n",
    "\n",
    "print(a & b)  # 0 00000001 & 00000010\n",
    "print(a | b)  # 3\n",
    "print(a ^ b)  # 3\n",
    "print(~a)  # -2 \n",
    "print(a << 2)  # 4\n",
    "print(a >> 2)  # 0"
   ]
  },
  {
   "cell_type": "markdown",
   "id": "a7643185",
   "metadata": {},
   "source": [
    "**Augmented assignment operators**"
   ]
  },
  {
   "cell_type": "code",
   "execution_count": 13,
   "id": "d9fa5c9d",
   "metadata": {},
   "outputs": [
    {
     "name": "stdout",
     "output_type": "stream",
     "text": [
      "2\n",
      "3\n",
      "1\n"
     ]
    }
   ],
   "source": [
    "\n",
    "a = 1\n",
    "\n",
    "# Simple assignment\n",
    "a = 2\n",
    "print(a)  # 2\n",
    "\n",
    "# Augmented assignment\n",
    "a += 1 # a = a + 1\n",
    "print(a)  # 3\n",
    "\n",
    "a -= 2 # a = a -2\n",
    "print(a)"
   ]
  }
 ],
 "metadata": {
  "kernelspec": {
   "display_name": "Python 3.9.12 ('base')",
   "language": "python",
   "name": "python3"
  },
  "language_info": {
   "codemirror_mode": {
    "name": "ipython",
    "version": 3
   },
   "file_extension": ".py",
   "mimetype": "text/x-python",
   "name": "python",
   "nbconvert_exporter": "python",
   "pygments_lexer": "ipython3",
   "version": "3.9.16"
  },
  "vscode": {
   "interpreter": {
    "hash": "a22c884f02d4ed9d815a3f1f671ec5848d853f00cb96c2a39c5f6946f5012062"
   }
  }
 },
 "nbformat": 4,
 "nbformat_minor": 5
}
