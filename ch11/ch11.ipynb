{
 "cells": [
  {
   "cell_type": "markdown",
   "id": "49888ba0",
   "metadata": {},
   "source": [
    "# Ch11 標準函式庫\n",
    "## 11-1　系統相關的模組\n",
    "### (11-1-1-執行指令與顯示環境變數.py)  11-1-1　執行指令與顯示環境變數"
   ]
  },
  {
   "cell_type": "code",
   "execution_count": null,
   "id": "3f7f0132",
   "metadata": {},
   "outputs": [],
   "source": [
    "import os\n",
    "os.system('dir')\n",
    "print(os.getenv('COMPUTERNAME'))\n",
    "print(os.getenv('HOMEDRIVE'))\n",
    "print(os.getenv('HOMEPATH'))\n",
    "print(os.getenv('USERNAME'))\n"
   ]
  },
  {
   "cell_type": "markdown",
   "id": "8b56a9cd",
   "metadata": {},
   "source": [
    "### (11-1-2-顯示區域變數與全域變數.py)  11-1-2　使用pprint 顯示區域變數與全域變數"
   ]
  },
  {
   "cell_type": "code",
   "execution_count": null,
   "id": "883db2ce",
   "metadata": {},
   "outputs": [],
   "source": [
    "import pprint\n",
    "print('在函式外，顯示全域變數', globals())\n",
    "print('在函式外，顯示區域變數', locals())\n",
    "def add(x, y):\n",
    "    sum = x+y\n",
    "    print('在函式內，顯示全域變數')\n",
    "    pprint.pprint(globals())\n",
    "    print('在函式內，顯示區域變數')\n",
    "    pprint.pprint(locals())\n",
    "    return sum\n",
    "ans = add(1,2)\n"
   ]
  },
  {
   "cell_type": "markdown",
   "id": "d85c62ef",
   "metadata": {},
   "source": [
    "## 11-2　可迭代的函式庫\n",
    "### (11-2-1a-模組itertools的函式count.py)  模組itertools 的函式count 範例"
   ]
  },
  {
   "cell_type": "code",
   "execution_count": null,
   "id": "60e998ef",
   "metadata": {},
   "outputs": [],
   "source": [
    "import itertools\n",
    "nums = itertools.count(1,2)\n",
    "for i in range(5):\n",
    "    num = nums.__next__()\n",
    "    print(num)"
   ]
  },
  {
   "cell_type": "markdown",
   "id": "31b2246a",
   "metadata": {},
   "source": [
    "### (11-2-1b-模組itertools的函式cycle.py) 模組itertools 的函式cycle 範例"
   ]
  },
  {
   "cell_type": "code",
   "execution_count": null,
   "id": "1649fb19",
   "metadata": {},
   "outputs": [],
   "source": [
    "import itertools\n",
    "nums = [1, 2, 3]\n",
    "cyclenums = itertools.cycle(nums)\n",
    "for i in range(6):\n",
    "    num = cyclenums.__next__()\n",
    "    print(num)"
   ]
  },
  {
   "cell_type": "markdown",
   "id": "51d22d64",
   "metadata": {},
   "source": [
    "### (11-2-1c-模組itertools的函式repeat.py)  模組itertools 的函式repeat 範例"
   ]
  },
  {
   "cell_type": "code",
   "execution_count": null,
   "id": "4b51bb7b",
   "metadata": {},
   "outputs": [],
   "source": [
    "import itertools\n",
    "nums = [1, 2, 3]\n",
    "repeatnums = itertools.repeat(nums, 3)\n",
    "for i in range(3):\n",
    "    num = repeatnums.__next__()\n",
    "    print(num)"
   ]
  },
  {
   "cell_type": "markdown",
   "id": "c1657c90",
   "metadata": {},
   "source": [
    "### (11-2-1d-模組itertools的函式accumulate.py)  模組itertools 的函式accumulate 範例"
   ]
  },
  {
   "cell_type": "code",
   "execution_count": null,
   "id": "8094b200",
   "metadata": {},
   "outputs": [],
   "source": [
    "import itertools\n",
    "nums = [i for i in range(1, 6)]\n",
    "sums = itertools.accumulate(nums)\n",
    "print(list(sums))\n",
    "sums = itertools.accumulate(nums, lambda x,y:x*y)\n",
    "print(list(sums))"
   ]
  },
  {
   "cell_type": "markdown",
   "id": "0c9226f8",
   "metadata": {},
   "source": [
    "### (11-2-1e-模組itertools的函式chain.py)  模組itertools 的函式chain 範例"
   ]
  },
  {
   "cell_type": "code",
   "execution_count": null,
   "id": "3c59c3cd",
   "metadata": {},
   "outputs": [],
   "source": [
    "import itertools\n",
    "s = itertools.chain('Py','thon')\n",
    "print(list(s))"
   ]
  },
  {
   "cell_type": "markdown",
   "id": "2fc9b073",
   "metadata": {},
   "source": [
    "### (11-2-1f-模組itertools的函式permutations與combinations.py)  模組itertools 的函式permutations 與combinations 範例"
   ]
  },
  {
   "cell_type": "code",
   "execution_count": null,
   "id": "a3487485",
   "metadata": {},
   "outputs": [],
   "source": [
    "import itertools\n",
    "perm = itertools.permutations('ABC', 2)\n",
    "print(list(perm))\n",
    "comb = itertools.combinations('ABC', 2)\n",
    "print(list(comb))"
   ]
  },
  {
   "cell_type": "markdown",
   "id": "81021af7",
   "metadata": {},
   "source": [
    "### (11-2-2-enumerate與zip.py)  11-2-2　enumerate 與zip"
   ]
  },
  {
   "cell_type": "code",
   "execution_count": null,
   "id": "714aa7e5",
   "metadata": {},
   "outputs": [],
   "source": [
    "days = ['星期天', '星期一', '星期二', '星期三', '星期四', '星期五', '星期六']\n",
    "p = enumerate(days, start=1)\n",
    "for c, day in p:\n",
    "    print(c, day)\n",
    "do = ['休息', '游泳','跑步', '籃球', '桌球', '羽球', '棒球', '壘球']\n",
    "week = zip(days, do)\n",
    "for day,sport in week:\n",
    "    print(day,sport)"
   ]
  },
  {
   "cell_type": "markdown",
   "id": "bc2bed93",
   "metadata": {},
   "source": [
    "### 11-2-3　filter、map 與reduce\n",
    "### (11-2-3a-filter.py)  函式filter 範例"
   ]
  },
  {
   "cell_type": "code",
   "execution_count": null,
   "id": "0b768f3b",
   "metadata": {},
   "outputs": [],
   "source": [
    "nums = [i for i in range(1,10)]\n",
    "nums2 = filter(lambda x:x%2, nums)\n",
    "print(list(nums2))\n",
    "nums2 = filter(lambda x:x%2 == 0, nums)\n",
    "print(list(nums2))"
   ]
  },
  {
   "cell_type": "markdown",
   "id": "909a16a1",
   "metadata": {},
   "source": [
    "### (11-2-3b-map.py)  函式map 範例"
   ]
  },
  {
   "cell_type": "code",
   "execution_count": null,
   "id": "7e809f81",
   "metadata": {},
   "outputs": [],
   "source": [
    "nums = [i for i in range(1,6)]\n",
    "def double(x):\n",
    "    return 2*x\n",
    "nums2 = map(double, nums)\n",
    "print(list(nums2))\n",
    "a = [i for i in range(1,6)]\n",
    "b = [i for i in range(6,11)]\n",
    "c = map(lambda x,y:x*y, a, b)\n",
    "print(list(c))"
   ]
  },
  {
   "cell_type": "markdown",
   "id": "c48d0b21",
   "metadata": {},
   "source": [
    "### (11-2-3c-reduce.py)  模組functools 的函式reduce 範例"
   ]
  },
  {
   "cell_type": "code",
   "execution_count": null,
   "id": "6b687082",
   "metadata": {},
   "outputs": [],
   "source": [
    "import functools\n",
    "num = functools.reduce(lambda x, y:x+y, range(1,10))\n",
    "print(num)\n",
    "num = functools.reduce(lambda x, y:x+y, range(1,10),3)\n",
    "print(num)"
   ]
  },
  {
   "cell_type": "markdown",
   "id": "2c1ce908",
   "metadata": {},
   "source": [
    "### (11-2-4-prime.py)  11-2-4　篩選法求質數範例"
   ]
  },
  {
   "cell_type": "code",
   "execution_count": null,
   "id": "b8fc72d2",
   "metadata": {},
   "outputs": [],
   "source": [
    "import itertools\n",
    "def iter_primes():\n",
    "     numbers = itertools.count(2)\n",
    "     while True:\n",
    "         prime = numbers.__next__()\n",
    "         numbers = filter(prime.__rmod__, numbers)\n",
    "         yield prime\n",
    "for p in iter_primes():\n",
    "    if p > 1000:\n",
    "        break\n",
    "    print(p,' ',end='')\n"
   ]
  },
  {
   "cell_type": "markdown",
   "id": "e05426c0",
   "metadata": {},
   "source": [
    "## 11-3　時間函式庫\n",
    "### (11-3-1-datetime與date.py)  11-3-1　模組datetime 與date"
   ]
  },
  {
   "cell_type": "code",
   "execution_count": null,
   "id": "05364aaa",
   "metadata": {},
   "outputs": [],
   "source": [
    "from datetime import datetime, date\n",
    "now = date.today()\n",
    "print(now)\n",
    "now = datetime.now()\n",
    "print(now)\n",
    "print(now.year, now.month, now.day)\n",
    "print(now.hour, now.minute, now.second, now.microsecond)"
   ]
  },
  {
   "cell_type": "markdown",
   "id": "ee131ef3",
   "metadata": {},
   "source": [
    "### (11-3-2-模組time.py)  11-3-2　模組time"
   ]
  },
  {
   "cell_type": "code",
   "execution_count": null,
   "id": "dbf0dba2",
   "metadata": {},
   "outputs": [],
   "source": [
    "import time\n",
    "now = time.time()\n",
    "print(now)\n",
    "print(time.ctime())\n",
    "t=time.localtime()\n",
    "print(t)\n",
    "fmt = \"%Y-%m-%d(%a) %H %M %S\"\n",
    "print('現在時間為',time.strftime(fmt))\n",
    "fmt2 = \"%Y-%B-%d(%A) %p %I %M %S\"\n",
    "print('現在時間為',time.strftime(fmt2))"
   ]
  },
  {
   "cell_type": "markdown",
   "id": "a01a7c6e",
   "metadata": {},
   "source": [
    "### (11-3-3-模組timedelta.py)  11-3-3　模組timedelta"
   ]
  },
  {
   "cell_type": "code",
   "execution_count": null,
   "id": "fa59093c",
   "metadata": {},
   "outputs": [],
   "source": [
    "from datetime import datetime,timedelta\n",
    "birthday = datetime(1995,1,1,21,30,0,0)\n",
    "print(birthday)\n",
    "day10000 = timedelta(days=10000)\n",
    "someday = birthday + day10000\n",
    "print(someday)"
   ]
  },
  {
   "cell_type": "markdown",
   "id": "6b26575c",
   "metadata": {},
   "source": [
    "### (11-3-4-模組time計算執行時間.py)  11-3-4　使用模組time 計算程式執行時間"
   ]
  },
  {
   "cell_type": "code",
   "execution_count": null,
   "id": "f7fe4ba3",
   "metadata": {},
   "outputs": [],
   "source": [
    "import time as t\n",
    "def count():\n",
    "    st = t.time()\n",
    "    [x for x in range(10000000)]\n",
    "    et = t.time()\n",
    "    print ('執行所需時間為',et-st,'秒')\n",
    "count()"
   ]
  },
  {
   "cell_type": "markdown",
   "id": "f802121f",
   "metadata": {},
   "source": [
    "## 11-4　collections 套件\n",
    "### (11-4-1-模組OrderDict.py) 11-4-1　模組OrderDict"
   ]
  },
  {
   "cell_type": "code",
   "execution_count": null,
   "id": "e26e4df1",
   "metadata": {},
   "outputs": [],
   "source": [
    "import collections\n",
    "days = ['星期天', '星期一', '星期二', '星期三', '星期四', '星期五', '星期六']\n",
    "sport = ['休息', '游泳','跑步', '籃球', '桌球', '羽球', '棒球']\n",
    "week = zip(days, sport)\n",
    "d1 = dict(week)\n",
    "print(d1)\n",
    "week = zip(days, sport)\n",
    "d2 = collections.OrderedDict(week)\n",
    "print(d2)\n",
    "d = collections.OrderedDict([('Cr', 1),('To', 2)])\n",
    "print(d)"
   ]
  },
  {
   "cell_type": "markdown",
   "id": "f1f567e0",
   "metadata": {},
   "source": [
    "### (11-4-2-模組deque.py)  11-4-2　模組deque"
   ]
  },
  {
   "cell_type": "code",
   "execution_count": null,
   "id": "1d434a00",
   "metadata": {},
   "outputs": [],
   "source": [
    "from collections import deque\n",
    "nums = [i for i in range(1,6)]\n",
    "dq = deque(nums)\n",
    "print(dq)\n",
    "dq.rotate(1)\n",
    "print(dq)\n",
    "dq.pop()\n",
    "print(dq)\n",
    "dq.popleft()\n",
    "print(dq)\n",
    "dq.append(8)\n",
    "print(dq)\n",
    "dq.appendleft(8)\n",
    "print(dq)\n",
    "print(dq.count(8))\n",
    "dq.reverse()\n",
    "print(dq)"
   ]
  },
  {
   "cell_type": "markdown",
   "id": "8cc3be83",
   "metadata": {},
   "source": [
    "## 11-4-3　模組Counter\n",
    "### (11-4-3a-模組Counter初始化.py) 模組Counter 初始化範例"
   ]
  },
  {
   "cell_type": "code",
   "execution_count": null,
   "id": "977acb75",
   "metadata": {},
   "outputs": [],
   "source": [
    "from collections import Counter\n",
    "c = Counter('Python')\n",
    "print(c)\n",
    "x = ['a', 'a', 'b', 'b', 'b']\n",
    "c = Counter(x)\n",
    "print(c)\n",
    "c = Counter({'a':2,'b':3})\n",
    "print(c)\n",
    "c = Counter(a=2, b=3)\n",
    "print(c)"
   ]
  },
  {
   "cell_type": "markdown",
   "id": "c13fde82",
   "metadata": {},
   "source": [
    "### (11-4-3b-模組Counter的應用.py) 模組Counter 應用範例"
   ]
  },
  {
   "cell_type": "code",
   "execution_count": null,
   "id": "4b2c9eca",
   "metadata": {},
   "outputs": [],
   "source": [
    "from collections import Counter\n",
    "c = Counter({'a':2,'b':3,'c':1})\n",
    "print(c)\n",
    "print(list(c.elements()))\n",
    "print(c.values())\n",
    "print(c.keys())\n",
    "print(c.most_common())\n",
    "print(c.most_common(1))\n",
    "print(c.most_common()[::-1])\n",
    "print(c.most_common()[:-2:-1])"
   ]
  },
  {
   "cell_type": "markdown",
   "id": "9a8b0184",
   "metadata": {},
   "source": [
    "### (11-4-3c-模組Counter的運算子.py)  模組Counter 運算子範例"
   ]
  },
  {
   "cell_type": "code",
   "execution_count": null,
   "id": "1cc5413f",
   "metadata": {},
   "outputs": [],
   "source": [
    "from collections import Counter\n",
    "a = Counter(a=2, b=3)\n",
    "b = Counter(b=2, c=1)\n",
    "print(a + b)\n",
    "print(a - b)\n",
    "print(a & b)\n",
    "print(a | b)"
   ]
  },
  {
   "cell_type": "markdown",
   "id": "fdb1dc15",
   "metadata": {},
   "source": [
    "### (11-4-4-找出出現次數最多的5個字.py)  11-4-4　找出文字檔中出現次數最多的5 個字"
   ]
  },
  {
   "cell_type": "code",
   "execution_count": null,
   "id": "7b823dfa",
   "metadata": {},
   "outputs": [],
   "source": [
    "from collections import Counter\n",
    "import re\n",
    "fin = open('zen.txt', 'rt')  #複製zen.txt到Jupyter Notebook的家目錄\n",
    "s = fin.read().lower()\n",
    "words = re.findall(r'[\\w\\']+',s)\n",
    "c = Counter(words)\n",
    "print(c.most_common(5))"
   ]
  },
  {
   "cell_type": "markdown",
   "id": "374f58b8",
   "metadata": {},
   "source": [
    "## 11-5　綜合應用—備份資料夾\n",
    "### (11-5-備份資料夾.py)"
   ]
  },
  {
   "cell_type": "code",
   "execution_count": null,
   "id": "d7edef42",
   "metadata": {},
   "outputs": [],
   "source": [
    "import os\n",
    "import time\n",
    "src_dir = ['c:\\\\data']\n",
    "for d in src_dir:\n",
    "    index=d.rfind('\\\\')\n",
    "    fmt = '%Y%m%d_%H%M%S'\n",
    "    target_file = 'c:\\\\backup\\\\' + d[index+1:] + '_' + time.strftime(fmt) + '.zip '\n",
    "    zipcmd = '7z a -tzip ' + target_file + d\n",
    "    if os.system(zipcmd) == 0:\n",
    "        print('備份成功')\n",
    "    else:\n",
    "        print('備份失敗')\n"
   ]
  },
  {
   "cell_type": "code",
   "execution_count": null,
   "id": "431712b1",
   "metadata": {},
   "outputs": [],
   "source": []
  }
 ],
 "metadata": {
  "kernelspec": {
   "display_name": "Python 3 (ipykernel)",
   "language": "python",
   "name": "python3"
  },
  "language_info": {
   "codemirror_mode": {
    "name": "ipython",
    "version": 3
   },
   "file_extension": ".py",
   "mimetype": "text/x-python",
   "name": "python",
   "nbconvert_exporter": "python",
   "pygments_lexer": "ipython3",
   "version": "3.9.7"
  }
 },
 "nbformat": 4,
 "nbformat_minor": 5
}
